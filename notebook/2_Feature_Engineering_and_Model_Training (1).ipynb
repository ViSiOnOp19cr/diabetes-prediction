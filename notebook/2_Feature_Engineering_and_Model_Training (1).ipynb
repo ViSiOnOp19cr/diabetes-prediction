{
  "cells": [
    {
      "cell_type": "markdown",
      "id": "4437a980",
      "metadata": {
        "id": "4437a980"
      },
      "source": [
        "# Data Pre-Processing"
      ]
    },
    {
      "cell_type": "markdown",
      "id": "74b4d7e0",
      "metadata": {
        "id": "74b4d7e0"
      },
      "source": [
        "#### Import Packages and CSV"
      ]
    },
    {
      "cell_type": "code",
      "execution_count": 1,
      "id": "5530cc59",
      "metadata": {
        "id": "5530cc59",
        "outputId": "5fa0529c-5adf-480a-b56f-116e14b8514e"
      },
      "outputs": [
        {
          "name": "stdout",
          "output_type": "stream",
          "text": [
            "(768, 9)\n"
          ]
        }
      ],
      "source": [
        "import pandas as pd\n",
        "import numpy as np\n",
        "import matplotlib.pyplot as plt\n",
        "import seaborn as sns\n",
        "import warnings\n",
        "warnings.filterwarnings(\"ignore\")\n",
        "pd.pandas.set_option(\"display.max_columns\", None)\n",
        "# Create Dataframe\n",
        "df = pd.read_csv(r\"diabetes.csv\")\n",
        "# Print shape of dataset\n",
        "print(df.shape)"
      ]
    },
    {
      "cell_type": "markdown",
      "id": "c27265bd",
      "metadata": {
        "id": "c27265bd"
      },
      "source": [
        "## Data Cleaning"
      ]
    },
    {
      "cell_type": "markdown",
      "id": "dbad805a",
      "metadata": {
        "id": "dbad805a"
      },
      "source": [
        "### Handling Missing values"
      ]
    },
    {
      "cell_type": "markdown",
      "id": "0a0c1c0d",
      "metadata": {
        "id": "0a0c1c0d"
      },
      "source": [
        "* Handling Missing values \n",
        "* Handling Duplicates\n",
        "* Check data type\n",
        "* Understand the dataset"
      ]
    },
    {
      "cell_type": "markdown",
      "id": "40b4a428",
      "metadata": {
        "id": "40b4a428"
      },
      "source": [
        "#### Check Null Values"
      ]
    },
    {
      "cell_type": "code",
      "execution_count": 2,
      "id": "2b94aa8f",
      "metadata": {
        "id": "2b94aa8f"
      },
      "outputs": [],
      "source": [
        "##these are the features with nan value\n",
        "features_with_na=[features for features in df.columns if df[features].isnull().sum()>=1]\n",
        "for feature in features_with_na:\n",
        "    print(feature,np.round(df[feature].isnull().mean()*100,5), '% missing values')"
      ]
    },
    {
      "cell_type": "code",
      "execution_count": 3,
      "id": "f08d8e60",
      "metadata": {},
      "outputs": [
        {
          "data": {
            "text/plain": [
              "[]"
            ]
          },
          "execution_count": 3,
          "metadata": {},
          "output_type": "execute_result"
        }
      ],
      "source": [
        "features_with_na"
      ]
    },
    {
      "cell_type": "markdown",
      "id": "31bb11b3",
      "metadata": {
        "id": "31bb11b3"
      },
      "source": [
        "* **There are no null values in the dataset**"
      ]
    },
    {
      "cell_type": "markdown",
      "id": "76eafe12",
      "metadata": {
        "id": "76eafe12"
      },
      "source": [
        "### 3.2 Other Data Cleaning steps"
      ]
    },
    {
      "cell_type": "markdown",
      "id": "471fd48f",
      "metadata": {
        "id": "471fd48f"
      },
      "source": [
        "**Handling Duplicates**"
      ]
    },
    {
      "cell_type": "code",
      "execution_count": 4,
      "id": "d8fa17e0",
      "metadata": {
        "id": "d8fa17e0",
        "outputId": "7f1d6a37-65e2-4b4f-f201-69b9c3a80150"
      },
      "outputs": [
        {
          "data": {
            "text/plain": [
              "0"
            ]
          },
          "execution_count": 4,
          "metadata": {},
          "output_type": "execute_result"
        }
      ],
      "source": [
        "df.duplicated().sum()"
      ]
    },
    {
      "cell_type": "markdown",
      "id": "3f574d4c",
      "metadata": {
        "id": "3f574d4c"
      },
      "source": [
        "* **No Duplicates in the dataset**"
      ]
    },
    {
      "cell_type": "markdown",
      "id": "6d48a184",
      "metadata": {
        "id": "6d48a184"
      },
      "source": [
        "# Feature Engineering"
      ]
    },
    {
      "cell_type": "markdown",
      "id": "8453d379",
      "metadata": {
        "id": "8453d379"
      },
      "source": [
        "## Feature Extraction"
      ]
    },
    {
      "cell_type": "code",
      "execution_count": 6,
      "id": "40ec4ef6",
      "metadata": {},
      "outputs": [
        {
          "data": {
            "text/html": [
              "<div>\n",
              "<style scoped>\n",
              "    .dataframe tbody tr th:only-of-type {\n",
              "        vertical-align: middle;\n",
              "    }\n",
              "\n",
              "    .dataframe tbody tr th {\n",
              "        vertical-align: top;\n",
              "    }\n",
              "\n",
              "    .dataframe thead th {\n",
              "        text-align: right;\n",
              "    }\n",
              "</style>\n",
              "<table border=\"1\" class=\"dataframe\">\n",
              "  <thead>\n",
              "    <tr style=\"text-align: right;\">\n",
              "      <th></th>\n",
              "      <th>Pregnancies</th>\n",
              "      <th>Glucose</th>\n",
              "      <th>BloodPressure</th>\n",
              "      <th>SkinThickness</th>\n",
              "      <th>Insulin</th>\n",
              "      <th>BMI</th>\n",
              "      <th>DiabetesPedigreeFunction</th>\n",
              "      <th>Age</th>\n",
              "      <th>Outcome</th>\n",
              "    </tr>\n",
              "  </thead>\n",
              "  <tbody>\n",
              "    <tr>\n",
              "      <th>0</th>\n",
              "      <td>6</td>\n",
              "      <td>148</td>\n",
              "      <td>72</td>\n",
              "      <td>35</td>\n",
              "      <td>0</td>\n",
              "      <td>33.6</td>\n",
              "      <td>0.627</td>\n",
              "      <td>50</td>\n",
              "      <td>1</td>\n",
              "    </tr>\n",
              "    <tr>\n",
              "      <th>1</th>\n",
              "      <td>1</td>\n",
              "      <td>85</td>\n",
              "      <td>66</td>\n",
              "      <td>29</td>\n",
              "      <td>0</td>\n",
              "      <td>26.6</td>\n",
              "      <td>0.351</td>\n",
              "      <td>31</td>\n",
              "      <td>0</td>\n",
              "    </tr>\n",
              "    <tr>\n",
              "      <th>2</th>\n",
              "      <td>8</td>\n",
              "      <td>183</td>\n",
              "      <td>64</td>\n",
              "      <td>0</td>\n",
              "      <td>0</td>\n",
              "      <td>23.3</td>\n",
              "      <td>0.672</td>\n",
              "      <td>32</td>\n",
              "      <td>1</td>\n",
              "    </tr>\n",
              "    <tr>\n",
              "      <th>3</th>\n",
              "      <td>1</td>\n",
              "      <td>89</td>\n",
              "      <td>66</td>\n",
              "      <td>23</td>\n",
              "      <td>94</td>\n",
              "      <td>28.1</td>\n",
              "      <td>0.167</td>\n",
              "      <td>21</td>\n",
              "      <td>0</td>\n",
              "    </tr>\n",
              "    <tr>\n",
              "      <th>4</th>\n",
              "      <td>0</td>\n",
              "      <td>137</td>\n",
              "      <td>40</td>\n",
              "      <td>35</td>\n",
              "      <td>168</td>\n",
              "      <td>43.1</td>\n",
              "      <td>2.288</td>\n",
              "      <td>33</td>\n",
              "      <td>1</td>\n",
              "    </tr>\n",
              "  </tbody>\n",
              "</table>\n",
              "</div>"
            ],
            "text/plain": [
              "   Pregnancies  Glucose  BloodPressure  SkinThickness  Insulin   BMI  \\\n",
              "0            6      148             72             35        0  33.6   \n",
              "1            1       85             66             29        0  26.6   \n",
              "2            8      183             64              0        0  23.3   \n",
              "3            1       89             66             23       94  28.1   \n",
              "4            0      137             40             35      168  43.1   \n",
              "\n",
              "   DiabetesPedigreeFunction  Age  Outcome  \n",
              "0                     0.627   50        1  \n",
              "1                     0.351   31        0  \n",
              "2                     0.672   32        1  \n",
              "3                     0.167   21        0  \n",
              "4                     2.288   33        1  "
            ]
          },
          "execution_count": 6,
          "metadata": {},
          "output_type": "execute_result"
        }
      ],
      "source": [
        "df.head()"
      ]
    },
    {
      "cell_type": "markdown",
      "id": "66542de1",
      "metadata": {
        "id": "66542de1"
      },
      "source": [
        "### Type of Features"
      ]
    },
    {
      "cell_type": "markdown",
      "id": "85df52e5",
      "metadata": {
        "id": "85df52e5"
      },
      "source": [
        "**Numeric Features**"
      ]
    },
    {
      "cell_type": "code",
      "execution_count": 14,
      "id": "d48aeaa4",
      "metadata": {
        "id": "d48aeaa4",
        "outputId": "3472d509-3613-408a-b2e0-7e04e3ba694a"
      },
      "outputs": [
        {
          "name": "stdout",
          "output_type": "stream",
          "text": [
            "Num of Numerical Features : 9\n"
          ]
        }
      ],
      "source": [
        "num_features = [feature for feature in df.columns if df[feature].dtype != 'O']\n",
        "print('Num of Numerical Features :', len(num_features))"
      ]
    },
    {
      "cell_type": "markdown",
      "id": "e1107060",
      "metadata": {
        "id": "e1107060"
      },
      "source": [
        "**Categorical Features**"
      ]
    },
    {
      "cell_type": "code",
      "execution_count": 15,
      "id": "ff997805",
      "metadata": {
        "id": "ff997805",
        "outputId": "3dd63e00-7af0-48de-d7bb-5d1f51c557de"
      },
      "outputs": [
        {
          "name": "stdout",
          "output_type": "stream",
          "text": [
            "Num of Categorical Features : 0\n"
          ]
        }
      ],
      "source": [
        "cat_features = [feature for feature in df.columns if df[feature].dtype == 'O']\n",
        "print('Num of Categorical Features :', len(cat_features))"
      ]
    },
    {
      "cell_type": "markdown",
      "id": "9bc032f9",
      "metadata": {
        "id": "9bc032f9"
      },
      "source": [
        "**Discrete features**"
      ]
    },
    {
      "cell_type": "code",
      "execution_count": 16,
      "id": "812ee6e0",
      "metadata": {
        "id": "812ee6e0",
        "outputId": "0181bd9a-5f2b-4292-8a57-d9c683d2e128"
      },
      "outputs": [
        {
          "name": "stdout",
          "output_type": "stream",
          "text": [
            "Num of Discrete Features : 2\n"
          ]
        }
      ],
      "source": [
        "discrete_features=[feature for feature in num_features if len(df[feature].unique())<=25]\n",
        "print('Num of Discrete Features :',len(discrete_features))"
      ]
    },
    {
      "cell_type": "markdown",
      "id": "3e6740bf",
      "metadata": {
        "id": "3e6740bf"
      },
      "source": [
        "**Continues Features**"
      ]
    },
    {
      "cell_type": "code",
      "execution_count": 17,
      "id": "e501c72b",
      "metadata": {
        "id": "e501c72b",
        "outputId": "c10010b4-eb51-406e-afc4-464894031222"
      },
      "outputs": [
        {
          "name": "stdout",
          "output_type": "stream",
          "text": [
            "Num of Continuous Features : 7\n"
          ]
        }
      ],
      "source": [
        "continuous_features=[feature for feature in num_features if feature not in discrete_features]\n",
        "print('Num of Continuous Features :',len(continuous_features))"
      ]
    },
    {
      "cell_type": "markdown",
      "id": "5a2cf140",
      "metadata": {
        "id": "5a2cf140"
      },
      "source": [
        "### Split X and Y"
      ]
    },
    {
      "cell_type": "markdown",
      "id": "9455c01a",
      "metadata": {
        "id": "9455c01a"
      },
      "source": [
        "* **Split Dataframe to X and y**\n",
        "* **Here we set a variable X i.e, independent columns, and a variable y i.e, dependent column as the “Case_Status” column.**\n"
      ]
    },
    {
      "cell_type": "code",
      "execution_count": 7,
      "id": "4434aa31",
      "metadata": {
        "id": "4434aa31"
      },
      "outputs": [],
      "source": [
        "X = df.drop('Outcome', axis=1)\n",
        "y = df['Outcome']"
      ]
    },
    {
      "cell_type": "code",
      "execution_count": 8,
      "id": "67a428d4",
      "metadata": {},
      "outputs": [
        {
          "data": {
            "text/plain": [
              "0    1\n",
              "1    0\n",
              "2    1\n",
              "3    0\n",
              "4    1\n",
              "Name: Outcome, dtype: int64"
            ]
          },
          "execution_count": 8,
          "metadata": {},
          "output_type": "execute_result"
        }
      ],
      "source": [
        "y.head()"
      ]
    },
    {
      "cell_type": "markdown",
      "id": "ca2d817d",
      "metadata": {
        "id": "ca2d817d"
      },
      "source": [
        "## Feature Transformation"
      ]
    },
    {
      "cell_type": "code",
      "execution_count": 12,
      "id": "a921c3a0",
      "metadata": {
        "id": "a921c3a0",
        "outputId": "84d46867-1130-41fc-9dca-e5087fccb83d",
        "scrolled": false
      },
      "outputs": [
        {
          "data": {
            "image/png": "[encoded data removed]",
            "text/plain": [
              "<Figure size 1200x600 with 8 Axes>"
            ]
          },
          "metadata": {},
          "output_type": "display_data"
        }
      ],
      "source": [
        "# distribution of data before scaling\n",
        "plt.figure(figsize=(12, 6))\n",
        "for i, col in enumerate(['Pregnancies','Glucose','BloodPressure','SkinThickness','Insulin','BMI','DiabetesPedigreeFunction','Age']):\n",
        "    plt.subplot(4, 2, i+1)\n",
        "    sns.histplot(x=X[col], color='indianred')\n",
        "    plt.xlabel(col)\n",
        "    plt.tight_layout()"
      ]
    },
    {
      "cell_type": "markdown",
      "id": "a890a255",
      "metadata": {
        "id": "a890a255"
      },
      "source": [
        "**Checking Skewness**"
      ]
    },
    {
      "cell_type": "markdown",
      "id": "ca6ac67f",
      "metadata": {
        "id": "ca6ac67f"
      },
      "source": [
        "**What is Skewness ?**\n",
        "\n",
        "* Skewness refers to a distortion or asymmetry that deviates from the symmetrical bell curve, or normal distribution, in a set of data. If the curve is shifted to the left or to the right, it is said to be skewed. Skewness can be quantified as a representation of the extent to which a given distribution varies from a normal distribution. A normal distribution has a skew of zero"
      ]
    },
    {
      "cell_type": "code",
      "execution_count": 18,
      "id": "4038a207",
      "metadata": {
        "id": "4038a207",
        "outputId": "51497045-4d93-46f8-ea18-47d742680845"
      },
      "outputs": [
        {
          "data": {
            "text/plain": [
              "Glucose                     0.173754\n",
              "BloodPressure              -1.843608\n",
              "SkinThickness               0.109372\n",
              "Insulin                     2.272251\n",
              "BMI                        -0.428982\n",
              "DiabetesPedigreeFunction    1.919911\n",
              "Age                         1.129597\n",
              "dtype: float64"
            ]
          },
          "execution_count": 18,
          "metadata": {},
          "output_type": "execute_result"
        }
      ],
      "source": [
        "# Check Skewness\n",
        "X[continuous_features].skew(axis=0, skipna=True)"
      ]
    },
    {
      "cell_type": "markdown",
      "id": "1786c0ad",
      "metadata": {
        "id": "1786c0ad"
      },
      "source": [
        "- Positiviely Skewed : Insulin, DiabetesPedigreeFunction, Age.\n",
        "- We can handle outliers and then check the skewness."
      ]
    },
    {
      "cell_type": "markdown",
      "id": "96c39509",
      "metadata": {
        "id": "96c39509"
      },
      "source": [
        "## Apply Power Transformer to Check if it can reduces the outliers"
      ]
    },
    {
      "cell_type": "code",
      "execution_count": 19,
      "id": "56ad9567",
      "metadata": {
        "id": "56ad9567"
      },
      "outputs": [],
      "source": [
        "from sklearn.preprocessing import PowerTransformer\n",
        "pt = PowerTransformer(method='yeo-johnson')\n",
        "transform_features = ['Glucose', 'SkinThickness','Insulin','DiabetesPedigreeFunction','Age']\n",
        "X_copy = pt.fit_transform(X[transform_features])"
      ]
    },
    {
      "cell_type": "code",
      "execution_count": 20,
      "id": "255b1c5e",
      "metadata": {
        "id": "255b1c5e"
      },
      "outputs": [],
      "source": [
        "X_copy = pd.DataFrame(X_copy, columns=transform_features)"
      ]
    },
    {
      "cell_type": "markdown",
      "id": "bb26baf6",
      "metadata": {
        "id": "bb26baf6"
      },
      "source": [
        "**Checking Skewness**"
      ]
    },
    {
      "cell_type": "code",
      "execution_count": 23,
      "id": "4c9a232a",
      "metadata": {
        "id": "4c9a232a",
        "outputId": "1ef33497-82c9-42b1-d17d-c62b5c5049ad"
      },
      "outputs": [
        {
          "data": {
            "text/plain": [
              "Glucose                     0.122640\n",
              "SkinThickness              -0.458444\n",
              "Insulin                     0.049581\n",
              "DiabetesPedigreeFunction    0.142321\n",
              "Age                         0.150219\n",
              "dtype: float64"
            ]
          },
          "execution_count": 23,
          "metadata": {},
          "output_type": "execute_result"
        }
      ],
      "source": [
        "X_copy.skew(axis=0, skipna=True)"
      ]
    },
    {
      "cell_type": "markdown",
      "id": "69c717fc",
      "metadata": {
        "id": "69c717fc"
      },
      "source": [
        "- Here Yeo-Johnson is used and it supports both positive or negative data for transformation.\n",
        "- So Power Transformer with yeo-johnson can be used."
      ]
    },
    {
      "cell_type": "code",
      "execution_count": 24,
      "id": "7740ff27",
      "metadata": {
        "id": "7740ff27",
        "outputId": "76d06e1f-cc70-41fa-91e2-6b99a2683eb4"
      },
      "outputs": [],
      "source": [
        "for feature in cat_features:\n",
        "    print(feature,':', df[feature].nunique())"
      ]
    },
    {
      "cell_type": "markdown",
      "id": "51a3853d",
      "metadata": {
        "id": "51a3853d"
      },
      "source": [
        "## Feature Encoding and Scaling"
      ]
    },
    {
      "cell_type": "markdown",
      "id": "29dbaf2d",
      "metadata": {
        "id": "29dbaf2d"
      },
      "source": [
        " **One Hot Encoding for Columns which had lesser unique values and not ordinal**\n",
        "* One hot encoding is a process by which categorical variables are converted into a form that could be provided to ML algorithms to do a better job in prediction.\n",
        "\n",
        "**Ordinal Encoding for Columns which has many unique categories** \n",
        "* Ordinal encoding is used here as label encoder is supported for column transformer.\n",
        "* Ordinal encoding is used for Ordinal Variable. Variable comprises a finite set of discrete values with a ranked ordering between values.\n",
        "\n",
        "**Standard Scaler** \n",
        "* Standardize features by removing the mean and scaling to unit variance.\n",
        "\n",
        "**Power Transformer**\n",
        "* Power transforms are a technique for transforming numerical input or output variables to have a Gaussian or more-Gaussian-like probability distribution."
      ]
    },
    {
      "cell_type": "markdown",
      "id": "e245a3af",
      "metadata": {
        "id": "e245a3af"
      },
      "source": [
        "**Selecting number features for preprocessing**"
      ]
    },
    {
      "cell_type": "code",
      "execution_count": 25,
      "id": "ef40892b",
      "metadata": {
        "id": "ef40892b"
      },
      "outputs": [],
      "source": [
        "num_features = list(X.select_dtypes(exclude=\"object\").columns)"
      ]
    },
    {
      "cell_type": "code",
      "execution_count": 26,
      "id": "5321209d",
      "metadata": {},
      "outputs": [
        {
          "data": {
            "text/plain": [
              "['Pregnancies',\n",
              " 'Glucose',\n",
              " 'BloodPressure',\n",
              " 'SkinThickness',\n",
              " 'Insulin',\n",
              " 'BMI',\n",
              " 'DiabetesPedigreeFunction',\n",
              " 'Age']"
            ]
          },
          "execution_count": 26,
          "metadata": {},
          "output_type": "execute_result"
        }
      ],
      "source": [
        "num_features"
      ]
    },
    {
      "cell_type": "code",
      "execution_count": 34,
      "id": "ef4a4a00",
      "metadata": {},
      "outputs": [],
      "source": [
        "outcome_r = df['Outcome'] #target label\n",
        "features_r = df.drop('Outcome', axis = 1) #other features\n",
        "skewed = ['SkinThickness','Insulin']\n",
        "features_log_transformed = pd.DataFrame(data = features_r)\n",
        "features_log_transformed[skewed] = features_r[skewed].apply(lambda x: np.log(x + 1))"
      ]
    },
    {
      "cell_type": "code",
      "execution_count": 35,
      "id": "123ea3a1",
      "metadata": {},
      "outputs": [
        {
          "data": {
            "text/html": [
              "<div>\n",
              "<style scoped>\n",
              "    .dataframe tbody tr th:only-of-type {\n",
              "        vertical-align: middle;\n",
              "    }\n",
              "\n",
              "    .dataframe tbody tr th {\n",
              "        vertical-align: top;\n",
              "    }\n",
              "\n",
              "    .dataframe thead th {\n",
              "        text-align: right;\n",
              "    }\n",
              "</style>\n",
              "<table border=\"1\" class=\"dataframe\">\n",
              "  <thead>\n",
              "    <tr style=\"text-align: right;\">\n",
              "      <th></th>\n",
              "      <th>Pregnancies</th>\n",
              "      <th>Glucose</th>\n",
              "      <th>BloodPressure</th>\n",
              "      <th>SkinThickness</th>\n",
              "      <th>Insulin</th>\n",
              "      <th>BMI</th>\n",
              "      <th>DiabetesPedigreeFunction</th>\n",
              "      <th>Age</th>\n",
              "    </tr>\n",
              "  </thead>\n",
              "  <tbody>\n",
              "    <tr>\n",
              "      <th>0</th>\n",
              "      <td>6</td>\n",
              "      <td>148</td>\n",
              "      <td>72</td>\n",
              "      <td>0.778151</td>\n",
              "      <td>0.000000</td>\n",
              "      <td>33.6</td>\n",
              "      <td>0.234415</td>\n",
              "      <td>50</td>\n",
              "    </tr>\n",
              "    <tr>\n",
              "      <th>1</th>\n",
              "      <td>1</td>\n",
              "      <td>85</td>\n",
              "      <td>66</td>\n",
              "      <td>0.738561</td>\n",
              "      <td>0.000000</td>\n",
              "      <td>26.6</td>\n",
              "      <td>0.116567</td>\n",
              "      <td>31</td>\n",
              "    </tr>\n",
              "    <tr>\n",
              "      <th>2</th>\n",
              "      <td>8</td>\n",
              "      <td>183</td>\n",
              "      <td>64</td>\n",
              "      <td>0.000000</td>\n",
              "      <td>0.000000</td>\n",
              "      <td>23.3</td>\n",
              "      <td>0.253629</td>\n",
              "      <td>32</td>\n",
              "    </tr>\n",
              "    <tr>\n",
              "      <th>3</th>\n",
              "      <td>1</td>\n",
              "      <td>89</td>\n",
              "      <td>66</td>\n",
              "      <td>0.690106</td>\n",
              "      <td>0.675479</td>\n",
              "      <td>28.1</td>\n",
              "      <td>0.038002</td>\n",
              "      <td>21</td>\n",
              "    </tr>\n",
              "    <tr>\n",
              "      <th>4</th>\n",
              "      <td>0</td>\n",
              "      <td>137</td>\n",
              "      <td>40</td>\n",
              "      <td>0.778151</td>\n",
              "      <td>0.760921</td>\n",
              "      <td>43.1</td>\n",
              "      <td>0.943638</td>\n",
              "      <td>33</td>\n",
              "    </tr>\n",
              "  </tbody>\n",
              "</table>\n",
              "</div>"
            ],
            "text/plain": [
              "   Pregnancies  Glucose  BloodPressure  SkinThickness   Insulin   BMI  \\\n",
              "0            6      148             72       0.778151  0.000000  33.6   \n",
              "1            1       85             66       0.738561  0.000000  26.6   \n",
              "2            8      183             64       0.000000  0.000000  23.3   \n",
              "3            1       89             66       0.690106  0.675479  28.1   \n",
              "4            0      137             40       0.778151  0.760921  43.1   \n",
              "\n",
              "   DiabetesPedigreeFunction  Age  \n",
              "0                  0.234415   50  \n",
              "1                  0.116567   31  \n",
              "2                  0.253629   32  \n",
              "3                  0.038002   21  \n",
              "4                  0.943638   33  "
            ]
          },
          "metadata": {},
          "output_type": "display_data"
        }
      ],
      "source": [
        "from sklearn.preprocessing import MinMaxScaler\n",
        "\n",
        "# Initialize a scaler, then apply it to the features\n",
        "scaler = MinMaxScaler() # default=(0, 1)\n",
        "numerical = ['Insulin','SkinThickness', 'DiabetesPedigreeFunction']\n",
        "\n",
        "features_log_minmax_transform = pd.DataFrame(data = features_log_transformed)\n",
        "features_log_minmax_transform[numerical] = scaler.fit_transform(features_log_transformed[numerical])\n",
        "\n",
        "# Show an example of a record with scaling applied\n",
        "display(features_log_minmax_transform.head(n = 5))\n",
        "features_final = features_log_minmax_transform"
      ]
    },
    {
      "cell_type": "code",
      "execution_count": 36,
      "id": "d791f12e",
      "metadata": {},
      "outputs": [
        {
          "data": {
            "text/html": [
              "<div>\n",
              "<style scoped>\n",
              "    .dataframe tbody tr th:only-of-type {\n",
              "        vertical-align: middle;\n",
              "    }\n",
              "\n",
              "    .dataframe tbody tr th {\n",
              "        vertical-align: top;\n",
              "    }\n",
              "\n",
              "    .dataframe thead th {\n",
              "        text-align: right;\n",
              "    }\n",
              "</style>\n",
              "<table border=\"1\" class=\"dataframe\">\n",
              "  <thead>\n",
              "    <tr style=\"text-align: right;\">\n",
              "      <th></th>\n",
              "      <th>Pregnancies</th>\n",
              "      <th>Glucose</th>\n",
              "      <th>BloodPressure</th>\n",
              "      <th>SkinThickness</th>\n",
              "      <th>Insulin</th>\n",
              "      <th>BMI</th>\n",
              "      <th>DiabetesPedigreeFunction</th>\n",
              "      <th>Age</th>\n",
              "    </tr>\n",
              "  </thead>\n",
              "  <tbody>\n",
              "    <tr>\n",
              "      <th>0</th>\n",
              "      <td>6</td>\n",
              "      <td>148</td>\n",
              "      <td>72</td>\n",
              "      <td>35</td>\n",
              "      <td>0</td>\n",
              "      <td>33.6</td>\n",
              "      <td>0.627</td>\n",
              "      <td>50</td>\n",
              "    </tr>\n",
              "    <tr>\n",
              "      <th>1</th>\n",
              "      <td>1</td>\n",
              "      <td>85</td>\n",
              "      <td>66</td>\n",
              "      <td>29</td>\n",
              "      <td>0</td>\n",
              "      <td>26.6</td>\n",
              "      <td>0.351</td>\n",
              "      <td>31</td>\n",
              "    </tr>\n",
              "    <tr>\n",
              "      <th>2</th>\n",
              "      <td>8</td>\n",
              "      <td>183</td>\n",
              "      <td>64</td>\n",
              "      <td>0</td>\n",
              "      <td>0</td>\n",
              "      <td>23.3</td>\n",
              "      <td>0.672</td>\n",
              "      <td>32</td>\n",
              "    </tr>\n",
              "    <tr>\n",
              "      <th>3</th>\n",
              "      <td>1</td>\n",
              "      <td>89</td>\n",
              "      <td>66</td>\n",
              "      <td>23</td>\n",
              "      <td>94</td>\n",
              "      <td>28.1</td>\n",
              "      <td>0.167</td>\n",
              "      <td>21</td>\n",
              "    </tr>\n",
              "    <tr>\n",
              "      <th>4</th>\n",
              "      <td>0</td>\n",
              "      <td>137</td>\n",
              "      <td>40</td>\n",
              "      <td>35</td>\n",
              "      <td>168</td>\n",
              "      <td>43.1</td>\n",
              "      <td>2.288</td>\n",
              "      <td>33</td>\n",
              "    </tr>\n",
              "    <tr>\n",
              "      <th>...</th>\n",
              "      <td>...</td>\n",
              "      <td>...</td>\n",
              "      <td>...</td>\n",
              "      <td>...</td>\n",
              "      <td>...</td>\n",
              "      <td>...</td>\n",
              "      <td>...</td>\n",
              "      <td>...</td>\n",
              "    </tr>\n",
              "    <tr>\n",
              "      <th>763</th>\n",
              "      <td>10</td>\n",
              "      <td>101</td>\n",
              "      <td>76</td>\n",
              "      <td>48</td>\n",
              "      <td>180</td>\n",
              "      <td>32.9</td>\n",
              "      <td>0.171</td>\n",
              "      <td>63</td>\n",
              "    </tr>\n",
              "    <tr>\n",
              "      <th>764</th>\n",
              "      <td>2</td>\n",
              "      <td>122</td>\n",
              "      <td>70</td>\n",
              "      <td>27</td>\n",
              "      <td>0</td>\n",
              "      <td>36.8</td>\n",
              "      <td>0.340</td>\n",
              "      <td>27</td>\n",
              "    </tr>\n",
              "    <tr>\n",
              "      <th>765</th>\n",
              "      <td>5</td>\n",
              "      <td>121</td>\n",
              "      <td>72</td>\n",
              "      <td>23</td>\n",
              "      <td>112</td>\n",
              "      <td>26.2</td>\n",
              "      <td>0.245</td>\n",
              "      <td>30</td>\n",
              "    </tr>\n",
              "    <tr>\n",
              "      <th>766</th>\n",
              "      <td>1</td>\n",
              "      <td>126</td>\n",
              "      <td>60</td>\n",
              "      <td>0</td>\n",
              "      <td>0</td>\n",
              "      <td>30.1</td>\n",
              "      <td>0.349</td>\n",
              "      <td>47</td>\n",
              "    </tr>\n",
              "    <tr>\n",
              "      <th>767</th>\n",
              "      <td>1</td>\n",
              "      <td>93</td>\n",
              "      <td>70</td>\n",
              "      <td>31</td>\n",
              "      <td>0</td>\n",
              "      <td>30.4</td>\n",
              "      <td>0.315</td>\n",
              "      <td>23</td>\n",
              "    </tr>\n",
              "  </tbody>\n",
              "</table>\n",
              "<p>768 rows × 8 columns</p>\n",
              "</div>"
            ],
            "text/plain": [
              "     Pregnancies  Glucose  BloodPressure  SkinThickness  Insulin   BMI  \\\n",
              "0              6      148             72             35        0  33.6   \n",
              "1              1       85             66             29        0  26.6   \n",
              "2              8      183             64              0        0  23.3   \n",
              "3              1       89             66             23       94  28.1   \n",
              "4              0      137             40             35      168  43.1   \n",
              "..           ...      ...            ...            ...      ...   ...   \n",
              "763           10      101             76             48      180  32.9   \n",
              "764            2      122             70             27        0  36.8   \n",
              "765            5      121             72             23      112  26.2   \n",
              "766            1      126             60              0        0  30.1   \n",
              "767            1       93             70             31        0  30.4   \n",
              "\n",
              "     DiabetesPedigreeFunction  Age  \n",
              "0                       0.627   50  \n",
              "1                       0.351   31  \n",
              "2                       0.672   32  \n",
              "3                       0.167   21  \n",
              "4                       2.288   33  \n",
              "..                        ...  ...  \n",
              "763                     0.171   63  \n",
              "764                     0.340   27  \n",
              "765                     0.245   30  \n",
              "766                     0.349   47  \n",
              "767                     0.315   23  \n",
              "\n",
              "[768 rows x 8 columns]"
            ]
          },
          "execution_count": 36,
          "metadata": {},
          "output_type": "execute_result"
        }
      ],
      "source": [
        "X"
      ]
    },
    {
      "cell_type": "markdown",
      "id": "8b08df30",
      "metadata": {
        "id": "8b08df30"
      },
      "source": [
        "# Classification"
      ]
    },
    {
      "cell_type": "code",
      "execution_count": 37,
      "id": "6688f6fb",
      "metadata": {
        "id": "6688f6fb"
      },
      "outputs": [],
      "source": [
        "from imblearn.combine import SMOTETomek, SMOTEENN\n",
        "\n",
        "# Resampling the minority class. The strategy can be changed as required.\n",
        "smt = SMOTEENN(random_state=42,sampling_strategy='minority' )\n",
        "# Fit the model to generate the data.\n",
        "X_res, y_res = smt.fit_resample(X, y)"
      ]
    },
    {
      "cell_type": "markdown",
      "id": "8a2c0485",
      "metadata": {
        "id": "8a2c0485"
      },
      "source": [
        "## Train Test Split\n",
        "- The train-test split procedure is used to estimate the performance of machine learning algorithms when they are used to make predictions on data not used to train the model.\n",
        "\n",
        "- It is a fast and easy procedure to perform, the results of which allow you to compare the performance of machine learning algorithms."
      ]
    },
    {
      "cell_type": "code",
      "execution_count": 38,
      "id": "e0f5858e",
      "metadata": {
        "id": "e0f5858e",
        "outputId": "d91dcb53-e0ae-4571-ef70-745f4c2ed1a2"
      },
      "outputs": [
        {
          "name": "stdout",
          "output_type": "stream",
          "text": [
            "Training set has 614 samples.\n",
            "Testing set has 154 samples.\n"
          ]
        }
      ],
      "source": [
        "from sklearn.model_selection import train_test_split\n",
        "\n",
        "# Split the 'features' and 'income' data into training and testing sets\n",
        "X_train, X_test, y_train, y_test = train_test_split(features_final, \n",
        "                                                    outcome_r, \n",
        "                                                    test_size = 0.2, \n",
        "                                                    random_state = 42)\n",
        "\n",
        "# Show the results of the split\n",
        "print(\"Training set has {} samples.\".format(X_train.shape[0]))\n",
        "print(\"Testing set has {} samples.\".format(X_test.shape[0]))"
      ]
    },
    {
      "cell_type": "code",
      "execution_count": 39,
      "id": "4cdb60f1",
      "metadata": {
        "id": "4cdb60f1"
      },
      "outputs": [],
      "source": [
        "from sklearn.ensemble import RandomForestClassifier, AdaBoostClassifier, GradientBoostingClassifier\n",
        "from sklearn.linear_model import LogisticRegression\n",
        "from sklearn.neighbors import KNeighborsClassifier\n",
        "from sklearn.tree import DecisionTreeClassifier\n",
        "from sklearn.svm import SVC\n",
        "from sklearn.metrics import accuracy_score, classification_report,ConfusionMatrixDisplay, \\\n",
        "                            precision_score, recall_score, f1_score, roc_auc_score,roc_curve \n",
        "from xgboost import XGBClassifier\n",
        "from catboost import CatBoostClassifier"
      ]
    },
    {
      "cell_type": "code",
      "execution_count": 40,
      "id": "b4da40e7",
      "metadata": {
        "id": "b4da40e7"
      },
      "outputs": [],
      "source": [
        "def evaluate_clf(true, predicted):\n",
        "    acc = accuracy_score(true, predicted) # Calculate Accuracy\n",
        "    f1 = f1_score(true, predicted) # Calculate F1-score\n",
        "    precision = precision_score(true, predicted) # Calculate Precision\n",
        "    recall = recall_score(true, predicted)  # Calculate Recall\n",
        "    roc_auc = roc_auc_score(true, predicted) #Calculate Roc\n",
        "    return acc, f1 , precision, recall, roc_auc"
      ]
    },
    {
      "cell_type": "code",
      "execution_count": 41,
      "id": "91cebd1a",
      "metadata": {
        "id": "91cebd1a",
        "scrolled": false
      },
      "outputs": [],
      "source": [
        "models = {\n",
        "    \"Random Forest\": RandomForestClassifier(),\n",
        "    \"Decision Tree\": DecisionTreeClassifier(),\n",
        "    \"Gradient Boosting\": GradientBoostingClassifier(),\n",
        "    \"Logistic Regression\": LogisticRegression(),\n",
        "     \"K-Neighbors Classifier\": KNeighborsClassifier(),\n",
        "    \"XGBClassifier\": XGBClassifier(), \n",
        "     \"CatBoosting Classifier\": CatBoostClassifier(verbose=False),\n",
        "     \"Support Vector Classifier\": SVC(),\n",
        "    \"AdaBoost Classifier\": AdaBoostClassifier()\n",
        "\n",
        "}"
      ]
    },
    {
      "cell_type": "code",
      "execution_count": 42,
      "id": "9aa69756",
      "metadata": {
        "id": "9aa69756"
      },
      "outputs": [],
      "source": [
        "# Create a function which can evaluate models and return a report \n",
        "def evaluate_models(X, y, models):\n",
        "    '''\n",
        "    This function takes in X and y and models dictionary as input\n",
        "    It splits the data into Train Test split\n",
        "    Iterates through the given model dictionary and evaluates the metrics\n",
        "    Returns: Dataframe which contains report of all models metrics with cost\n",
        "    '''\n",
        "    # separate dataset into train and test\n",
        "    X_train, X_test, y_train, y_test = train_test_split(X,y,test_size=0.2,random_state=42)\n",
        "    \n",
        "    models_list = []\n",
        "    accuracy_list = []\n",
        "    auc= []\n",
        "    \n",
        "    for i in range(len(list(models))):\n",
        "        model = list(models.values())[i]\n",
        "        model.fit(X_train, y_train) # Train model\n",
        "\n",
        "        # Make predictions\n",
        "        y_train_pred = model.predict(X_train)\n",
        "        y_test_pred = model.predict(X_test)\n",
        "\n",
        "        # Training set performance\n",
        "        model_train_accuracy, model_train_f1,model_train_precision,\\\n",
        "        model_train_recall,model_train_rocauc_score=evaluate_clf(y_train ,y_train_pred)\n",
        "\n",
        "\n",
        "        # Test set performance\n",
        "        model_test_accuracy,model_test_f1,model_test_precision,\\\n",
        "        model_test_recall,model_test_rocauc_score=evaluate_clf(y_test, y_test_pred)\n",
        "\n",
        "        print(list(models.keys())[i])\n",
        "        models_list.append(list(models.keys())[i])\n",
        "\n",
        "        print('Model performance for Training set')\n",
        "        print(\"- Accuracy: {:.4f}\".format(model_train_accuracy))\n",
        "        print('- F1 score: {:.4f}'.format(model_train_f1)) \n",
        "        print('- Precision: {:.4f}'.format(model_train_precision))\n",
        "        print('- Recall: {:.4f}'.format(model_train_recall))\n",
        "        print('- Roc Auc Score: {:.4f}'.format(model_train_rocauc_score))\n",
        "\n",
        "        print('----------------------------------')\n",
        "\n",
        "        print('Model performance for Test set')\n",
        "        print('- Accuracy: {:.4f}'.format(model_test_accuracy))\n",
        "        accuracy_list.append(model_test_accuracy)\n",
        "        print('- F1 score: {:.4f}'.format(model_test_f1))\n",
        "        print('- Precision: {:.4f}'.format(model_test_precision))\n",
        "        print('- Recall: {:.4f}'.format(model_test_recall))\n",
        "        print('- Roc Auc Score: {:.4f}'.format(model_test_rocauc_score))\n",
        "        auc.append(model_test_rocauc_score)\n",
        "        print('='*35)\n",
        "        print('\\n')\n",
        "        \n",
        "    report=pd.DataFrame(list(zip(models_list, accuracy_list)), columns=['Model Name', 'Accuracy']).sort_values(by=['Accuracy'], ascending=False)\n",
        "        \n",
        "    return report"
      ]
    },
    {
      "cell_type": "markdown",
      "id": "0e010280",
      "metadata": {
        "id": "0e010280"
      },
      "source": [
        "## Model Training "
      ]
    },
    {
      "cell_type": "code",
      "execution_count": 43,
      "id": "b08c217d",
      "metadata": {
        "id": "b08c217d",
        "outputId": "f8290c30-975a-4e44-80bd-9e120036e956",
        "scrolled": false
      },
      "outputs": [
        {
          "name": "stdout",
          "output_type": "stream",
          "text": [
            "Random Forest\n",
            "Model performance for Training set\n",
            "- Accuracy: 1.0000\n",
            "- F1 score: 1.0000\n",
            "- Precision: 1.0000\n",
            "- Recall: 1.0000\n",
            "- Roc Auc Score: 1.0000\n",
            "----------------------------------\n",
            "Model performance for Test set\n",
            "- Accuracy: 0.7403\n",
            "- F1 score: 0.6364\n",
            "- Precision: 0.6364\n",
            "- Recall: 0.6364\n",
            "- Roc Auc Score: 0.7172\n",
            "===================================\n",
            "\n",
            "\n",
            "Decision Tree\n",
            "Model performance for Training set\n",
            "- Accuracy: 1.0000\n",
            "- F1 score: 1.0000\n",
            "- Precision: 1.0000\n",
            "- Recall: 1.0000\n",
            "- Roc Auc Score: 1.0000\n",
            "----------------------------------\n",
            "Model performance for Test set\n",
            "- Accuracy: 0.7468\n",
            "- F1 score: 0.6667\n",
            "- Precision: 0.6290\n",
            "- Recall: 0.7091\n",
            "- Roc Auc Score: 0.7384\n",
            "===================================\n",
            "\n",
            "\n",
            "Gradient Boosting\n",
            "Model performance for Training set\n",
            "- Accuracy: 0.9381\n",
            "- F1 score: 0.9059\n",
            "- Precision: 0.9581\n",
            "- Recall: 0.8592\n",
            "- Roc Auc Score: 0.9196\n",
            "----------------------------------\n",
            "Model performance for Test set\n",
            "- Accuracy: 0.7403\n",
            "- F1 score: 0.6491\n",
            "- Precision: 0.6271\n",
            "- Recall: 0.6727\n",
            "- Roc Auc Score: 0.7253\n",
            "===================================\n",
            "\n",
            "\n",
            "Logistic Regression\n",
            "Model performance for Training set\n",
            "- Accuracy: 0.7720\n",
            "- F1 score: 0.6354\n",
            "- Precision: 0.7135\n",
            "- Recall: 0.5728\n",
            "- Roc Auc Score: 0.7253\n",
            "----------------------------------\n",
            "Model performance for Test set\n",
            "- Accuracy: 0.7468\n",
            "- F1 score: 0.6486\n",
            "- Precision: 0.6429\n",
            "- Recall: 0.6545\n",
            "- Roc Auc Score: 0.7263\n",
            "===================================\n",
            "\n",
            "\n",
            "K-Neighbors Classifier\n",
            "Model performance for Training set\n",
            "- Accuracy: 0.8225\n",
            "- F1 score: 0.7322\n",
            "- Precision: 0.7680\n",
            "- Recall: 0.6995\n",
            "- Roc Auc Score: 0.7937\n",
            "----------------------------------\n",
            "Model performance for Test set\n",
            "- Accuracy: 0.7468\n",
            "- F1 score: 0.6355\n",
            "- Precision: 0.6538\n",
            "- Recall: 0.6182\n",
            "- Roc Auc Score: 0.7182\n",
            "===================================\n",
            "\n",
            "\n",
            "XGBClassifier\n",
            "Model performance for Training set\n",
            "- Accuracy: 1.0000\n",
            "- F1 score: 1.0000\n",
            "- Precision: 1.0000\n",
            "- Recall: 1.0000\n",
            "- Roc Auc Score: 1.0000\n",
            "----------------------------------\n",
            "Model performance for Test set\n",
            "- Accuracy: 0.7078\n",
            "- F1 score: 0.6154\n",
            "- Precision: 0.5806\n",
            "- Recall: 0.6545\n",
            "- Roc Auc Score: 0.6960\n",
            "===================================\n",
            "\n",
            "\n",
            "CatBoosting Classifier\n",
            "Model performance for Training set\n",
            "- Accuracy: 0.9560\n",
            "- F1 score: 0.9337\n",
            "- Precision: 0.9794\n",
            "- Recall: 0.8920\n",
            "- Roc Auc Score: 0.9410\n",
            "----------------------------------\n",
            "Model performance for Test set\n",
            "- Accuracy: 0.7532\n",
            "- F1 score: 0.6667\n",
            "- Precision: 0.6441\n",
            "- Recall: 0.6909\n",
            "- Roc Auc Score: 0.7394\n",
            "===================================\n",
            "\n",
            "\n",
            "Support Vector Classifier\n",
            "Model performance for Training set\n",
            "- Accuracy: 0.7671\n",
            "- F1 score: 0.5994\n",
            "- Precision: 0.7431\n",
            "- Recall: 0.5023\n",
            "- Roc Auc Score: 0.7050\n",
            "----------------------------------\n",
            "Model performance for Test set\n",
            "- Accuracy: 0.7662\n",
            "- F1 score: 0.6400\n",
            "- Precision: 0.7111\n",
            "- Recall: 0.5818\n",
            "- Roc Auc Score: 0.7253\n",
            "===================================\n",
            "\n",
            "\n",
            "AdaBoost Classifier\n",
            "Model performance for Training set\n",
            "- Accuracy: 0.8355\n",
            "- F1 score: 0.7543\n",
            "- Precision: 0.7828\n",
            "- Recall: 0.7277\n",
            "- Roc Auc Score: 0.8102\n",
            "----------------------------------\n",
            "Model performance for Test set\n",
            "- Accuracy: 0.7338\n",
            "- F1 score: 0.6306\n",
            "- Precision: 0.6250\n",
            "- Recall: 0.6364\n",
            "- Roc Auc Score: 0.7121\n",
            "===================================\n",
            "\n",
            "\n"
          ]
        }
      ],
      "source": [
        "base_model_report =evaluate_models(X=features_final, y=outcome_r, models=models)"
      ]
    },
    {
      "cell_type": "markdown",
      "id": "8ac46818",
      "metadata": {
        "id": "8ac46818"
      },
      "source": [
        "**Results of All Models**"
      ]
    },
    {
      "cell_type": "code",
      "execution_count": 44,
      "id": "fd686f5e",
      "metadata": {
        "id": "fd686f5e",
        "outputId": "bf5b1cc5-5eab-4a63-c765-0a23cdc94ab0"
      },
      "outputs": [
        {
          "data": {
            "text/html": [
              "<div>\n",
              "<style scoped>\n",
              "    .dataframe tbody tr th:only-of-type {\n",
              "        vertical-align: middle;\n",
              "    }\n",
              "\n",
              "    .dataframe tbody tr th {\n",
              "        vertical-align: top;\n",
              "    }\n",
              "\n",
              "    .dataframe thead th {\n",
              "        text-align: right;\n",
              "    }\n",
              "</style>\n",
              "<table border=\"1\" class=\"dataframe\">\n",
              "  <thead>\n",
              "    <tr style=\"text-align: right;\">\n",
              "      <th></th>\n",
              "      <th>Model Name</th>\n",
              "      <th>Accuracy</th>\n",
              "    </tr>\n",
              "  </thead>\n",
              "  <tbody>\n",
              "    <tr>\n",
              "      <th>7</th>\n",
              "      <td>Support Vector Classifier</td>\n",
              "      <td>0.766234</td>\n",
              "    </tr>\n",
              "    <tr>\n",
              "      <th>6</th>\n",
              "      <td>CatBoosting Classifier</td>\n",
              "      <td>0.753247</td>\n",
              "    </tr>\n",
              "    <tr>\n",
              "      <th>1</th>\n",
              "      <td>Decision Tree</td>\n",
              "      <td>0.746753</td>\n",
              "    </tr>\n",
              "    <tr>\n",
              "      <th>3</th>\n",
              "      <td>Logistic Regression</td>\n",
              "      <td>0.746753</td>\n",
              "    </tr>\n",
              "    <tr>\n",
              "      <th>4</th>\n",
              "      <td>K-Neighbors Classifier</td>\n",
              "      <td>0.746753</td>\n",
              "    </tr>\n",
              "    <tr>\n",
              "      <th>0</th>\n",
              "      <td>Random Forest</td>\n",
              "      <td>0.740260</td>\n",
              "    </tr>\n",
              "    <tr>\n",
              "      <th>2</th>\n",
              "      <td>Gradient Boosting</td>\n",
              "      <td>0.740260</td>\n",
              "    </tr>\n",
              "    <tr>\n",
              "      <th>8</th>\n",
              "      <td>AdaBoost Classifier</td>\n",
              "      <td>0.733766</td>\n",
              "    </tr>\n",
              "    <tr>\n",
              "      <th>5</th>\n",
              "      <td>XGBClassifier</td>\n",
              "      <td>0.707792</td>\n",
              "    </tr>\n",
              "  </tbody>\n",
              "</table>\n",
              "</div>"
            ],
            "text/plain": [
              "                  Model Name  Accuracy\n",
              "7  Support Vector Classifier  0.766234\n",
              "6     CatBoosting Classifier  0.753247\n",
              "1              Decision Tree  0.746753\n",
              "3        Logistic Regression  0.746753\n",
              "4     K-Neighbors Classifier  0.746753\n",
              "0              Random Forest  0.740260\n",
              "2          Gradient Boosting  0.740260\n",
              "8        AdaBoost Classifier  0.733766\n",
              "5              XGBClassifier  0.707792"
            ]
          },
          "execution_count": 44,
          "metadata": {},
          "output_type": "execute_result"
        }
      ],
      "source": [
        "base_model_report"
      ]
    },
    {
      "cell_type": "markdown",
      "id": "f3534db9",
      "metadata": {
        "id": "f3534db9"
      },
      "source": [
        "**Here we can use decision Tree for Hyper Parameter Tuning**"
      ]
    },
    {
      "cell_type": "markdown",
      "id": "0b83fb1c",
      "metadata": {
        "id": "0b83fb1c"
      },
      "source": [
        "**Define the parameter distribution for Random forest**"
      ]
    },
    {
      "cell_type": "code",
      "execution_count": 45,
      "id": "893c4b00",
      "metadata": {
        "id": "893c4b00"
      },
      "outputs": [],
      "source": [
        "#Initialize few parameter for Hyperparamter tuning\n",
        "dt_params = {\n",
        "    'criterion': ['gini', 'entropy'],\n",
        "    'splitter': ['best', 'random'],\n",
        "    'max_depth': range(3, 10, 2),\n",
        "    'min_samples_split': [2, 5, 10],\n",
        "    'min_samples_leaf': [1, 2, 4],\n",
        "    'max_features': [None, 'sqrt', 'log2']\n",
        "}\n",
        "\n",
        "\n",
        "svc_params = {\n",
        "    'C': [0.1, 1, 10, 100],\n",
        "    'kernel': ['linear', 'poly', 'rbf', 'sigmoid'],\n",
        "    'degree': [2, 3, 4, 5],\n",
        "    'gamma': ['scale', 'auto']\n",
        "}\n",
        "\n",
        "\n",
        "catboost_params = {\n",
        "    'depth': [4, 6, 8, 10],\n",
        "    'learning_rate': [0.03, 0.1, 0.3],\n",
        "    'iterations': [100, 300, 500],\n",
        "    'l2_leaf_reg': [1, 3, 5, 7, 9]\n",
        "}\n"
      ]
    },
    {
      "cell_type": "code",
      "execution_count": 46,
      "id": "9a57c5fd",
      "metadata": {
        "id": "9a57c5fd"
      },
      "outputs": [],
      "source": [
        "# Models list for Hyperparameter tuning\n",
        "randomcv_models = [\n",
        "    ('catBoost', CatBoostClassifier(), catboost_params),\n",
        "    (\"SVC\", SVC(), svc_params),\n",
        "    (\"DecisionTree\", DecisionTreeClassifier(), dt_params)\n",
        "]"
      ]
    },
    {
      "cell_type": "markdown",
      "id": "723dea97",
      "metadata": {
        "id": "723dea97"
      },
      "source": [
        "**Create a function for model training and report which can be used in hyperparameter tuning loop**"
      ]
    },
    {
      "cell_type": "code",
      "execution_count": 49,
      "id": "0dc8830b",
      "metadata": {
        "id": "0dc8830b",
        "outputId": "7d73c308-88a2-41c6-a678-62f49819e41b"
      },
      "outputs": [
        {
          "name": "stdout",
          "output_type": "stream",
          "text": [
            "Fitting 2 folds for each of 5 candidates, totalling 10 fits\n",
            "0:\tlearn: 0.6855494\ttotal: 7.35ms\tremaining: 727ms\n",
            "1:\tlearn: 0.6776411\ttotal: 12.2ms\tremaining: 599ms\n",
            "2:\tlearn: 0.6695553\ttotal: 16.9ms\tremaining: 546ms\n",
            "3:\tlearn: 0.6638024\ttotal: 22.2ms\tremaining: 533ms\n",
            "4:\tlearn: 0.6587359\ttotal: 26.9ms\tremaining: 512ms\n",
            "5:\tlearn: 0.6525349\ttotal: 32.5ms\tremaining: 509ms\n",
            "6:\tlearn: 0.6457489\ttotal: 40.1ms\tremaining: 533ms\n",
            "7:\tlearn: 0.6406842\ttotal: 50ms\tremaining: 575ms\n",
            "8:\tlearn: 0.6346118\ttotal: 59.2ms\tremaining: 598ms\n",
            "9:\tlearn: 0.6289531\ttotal: 62.7ms\tremaining: 565ms\n",
            "10:\tlearn: 0.6228802\ttotal: 74.7ms\tremaining: 604ms\n",
            "11:\tlearn: 0.6178468\ttotal: 86.1ms\tremaining: 631ms\n",
            "12:\tlearn: 0.6134870\ttotal: 92.9ms\tremaining: 622ms\n",
            "13:\tlearn: 0.6081986\ttotal: 101ms\tremaining: 621ms\n",
            "14:\tlearn: 0.6038335\ttotal: 107ms\tremaining: 606ms\n",
            "15:\tlearn: 0.5997032\ttotal: 113ms\tremaining: 594ms\n",
            "16:\tlearn: 0.5954772\ttotal: 119ms\tremaining: 581ms\n",
            "17:\tlearn: 0.5915206\ttotal: 124ms\tremaining: 567ms\n",
            "18:\tlearn: 0.5875693\ttotal: 133ms\tremaining: 568ms\n",
            "19:\tlearn: 0.5832356\ttotal: 139ms\tremaining: 558ms\n",
            "20:\tlearn: 0.5796731\ttotal: 147ms\tremaining: 552ms\n",
            "21:\tlearn: 0.5752851\ttotal: 156ms\tremaining: 552ms\n",
            "22:\tlearn: 0.5724912\ttotal: 168ms\tremaining: 561ms\n",
            "23:\tlearn: 0.5679573\ttotal: 175ms\tremaining: 553ms\n",
            "24:\tlearn: 0.5645190\ttotal: 185ms\tremaining: 554ms\n",
            "25:\tlearn: 0.5608965\ttotal: 192ms\tremaining: 545ms\n",
            "26:\tlearn: 0.5573804\ttotal: 201ms\tremaining: 543ms\n",
            "27:\tlearn: 0.5540427\ttotal: 208ms\tremaining: 534ms\n",
            "28:\tlearn: 0.5505025\ttotal: 214ms\tremaining: 523ms\n",
            "29:\tlearn: 0.5464849\ttotal: 220ms\tremaining: 514ms\n",
            "30:\tlearn: 0.5433540\ttotal: 226ms\tremaining: 504ms\n",
            "31:\tlearn: 0.5396791\ttotal: 233ms\tremaining: 495ms\n",
            "32:\tlearn: 0.5361393\ttotal: 239ms\tremaining: 485ms\n",
            "33:\tlearn: 0.5327987\ttotal: 245ms\tremaining: 475ms\n",
            "34:\tlearn: 0.5300483\ttotal: 250ms\tremaining: 465ms\n",
            "35:\tlearn: 0.5276055\ttotal: 256ms\tremaining: 456ms\n",
            "36:\tlearn: 0.5247775\ttotal: 264ms\tremaining: 450ms\n",
            "37:\tlearn: 0.5221204\ttotal: 272ms\tremaining: 443ms\n",
            "38:\tlearn: 0.5194997\ttotal: 281ms\tremaining: 440ms\n",
            "39:\tlearn: 0.5167673\ttotal: 287ms\tremaining: 430ms\n",
            "40:\tlearn: 0.5138457\ttotal: 293ms\tremaining: 422ms\n",
            "41:\tlearn: 0.5113939\ttotal: 300ms\tremaining: 414ms\n",
            "42:\tlearn: 0.5091602\ttotal: 306ms\tremaining: 406ms\n",
            "43:\tlearn: 0.5065338\ttotal: 312ms\tremaining: 397ms\n",
            "44:\tlearn: 0.5042752\ttotal: 318ms\tremaining: 389ms\n",
            "45:\tlearn: 0.5017483\ttotal: 331ms\tremaining: 389ms\n",
            "46:\tlearn: 0.4994757\ttotal: 337ms\tremaining: 380ms\n",
            "47:\tlearn: 0.4970512\ttotal: 343ms\tremaining: 372ms\n",
            "48:\tlearn: 0.4950537\ttotal: 350ms\tremaining: 364ms\n",
            "49:\tlearn: 0.4928486\ttotal: 357ms\tremaining: 357ms\n",
            "50:\tlearn: 0.4909000\ttotal: 363ms\tremaining: 348ms\n",
            "51:\tlearn: 0.4887874\ttotal: 370ms\tremaining: 341ms\n",
            "52:\tlearn: 0.4870391\ttotal: 376ms\tremaining: 334ms\n",
            "53:\tlearn: 0.4849663\ttotal: 383ms\tremaining: 326ms\n",
            "54:\tlearn: 0.4829231\ttotal: 401ms\tremaining: 328ms\n",
            "55:\tlearn: 0.4812812\ttotal: 413ms\tremaining: 324ms\n",
            "56:\tlearn: 0.4792247\ttotal: 424ms\tremaining: 320ms\n",
            "57:\tlearn: 0.4770437\ttotal: 433ms\tremaining: 313ms\n",
            "58:\tlearn: 0.4753203\ttotal: 441ms\tremaining: 306ms\n",
            "59:\tlearn: 0.4736935\ttotal: 447ms\tremaining: 298ms\n",
            "60:\tlearn: 0.4720802\ttotal: 456ms\tremaining: 291ms\n",
            "61:\tlearn: 0.4704440\ttotal: 462ms\tremaining: 283ms\n",
            "62:\tlearn: 0.4683667\ttotal: 469ms\tremaining: 275ms\n",
            "63:\tlearn: 0.4665175\ttotal: 475ms\tremaining: 267ms\n",
            "64:\tlearn: 0.4649354\ttotal: 481ms\tremaining: 259ms\n",
            "65:\tlearn: 0.4631403\ttotal: 487ms\tremaining: 251ms\n",
            "66:\tlearn: 0.4614905\ttotal: 493ms\tremaining: 243ms\n",
            "67:\tlearn: 0.4601309\ttotal: 499ms\tremaining: 235ms\n",
            "68:\tlearn: 0.4587460\ttotal: 504ms\tremaining: 227ms\n",
            "69:\tlearn: 0.4570285\ttotal: 510ms\tremaining: 219ms\n",
            "70:\tlearn: 0.4557217\ttotal: 516ms\tremaining: 211ms\n",
            "71:\tlearn: 0.4543219\ttotal: 523ms\tremaining: 203ms\n",
            "72:\tlearn: 0.4529239\ttotal: 530ms\tremaining: 196ms\n",
            "73:\tlearn: 0.4516372\ttotal: 537ms\tremaining: 189ms\n",
            "74:\tlearn: 0.4503032\ttotal: 544ms\tremaining: 181ms\n",
            "75:\tlearn: 0.4486618\ttotal: 551ms\tremaining: 174ms\n",
            "76:\tlearn: 0.4473140\ttotal: 557ms\tremaining: 166ms\n",
            "77:\tlearn: 0.4461265\ttotal: 564ms\tremaining: 159ms\n",
            "78:\tlearn: 0.4446425\ttotal: 570ms\tremaining: 151ms\n",
            "79:\tlearn: 0.4432649\ttotal: 576ms\tremaining: 144ms\n",
            "80:\tlearn: 0.4419664\ttotal: 582ms\tremaining: 136ms\n",
            "81:\tlearn: 0.4406852\ttotal: 587ms\tremaining: 129ms\n",
            "82:\tlearn: 0.4393338\ttotal: 593ms\tremaining: 122ms\n",
            "83:\tlearn: 0.4383215\ttotal: 599ms\tremaining: 114ms\n",
            "84:\tlearn: 0.4368924\ttotal: 604ms\tremaining: 107ms\n",
            "85:\tlearn: 0.4357828\ttotal: 612ms\tremaining: 99.6ms\n",
            "86:\tlearn: 0.4347798\ttotal: 618ms\tremaining: 92.4ms\n",
            "87:\tlearn: 0.4336027\ttotal: 627ms\tremaining: 85.5ms\n",
            "88:\tlearn: 0.4325191\ttotal: 634ms\tremaining: 78.3ms\n",
            "89:\tlearn: 0.4315659\ttotal: 640ms\tremaining: 71.1ms\n",
            "90:\tlearn: 0.4303276\ttotal: 647ms\tremaining: 64ms\n",
            "91:\tlearn: 0.4291494\ttotal: 652ms\tremaining: 56.7ms\n",
            "92:\tlearn: 0.4280533\ttotal: 659ms\tremaining: 49.6ms\n",
            "93:\tlearn: 0.4271707\ttotal: 665ms\tremaining: 42.4ms\n",
            "94:\tlearn: 0.4258274\ttotal: 673ms\tremaining: 35.4ms\n",
            "95:\tlearn: 0.4248695\ttotal: 678ms\tremaining: 28.3ms\n",
            "96:\tlearn: 0.4236608\ttotal: 685ms\tremaining: 21.2ms\n",
            "97:\tlearn: 0.4225258\ttotal: 691ms\tremaining: 14.1ms\n",
            "98:\tlearn: 0.4215334\ttotal: 697ms\tremaining: 7.04ms\n",
            "99:\tlearn: 0.4202985\ttotal: 703ms\tremaining: 0us\n",
            "Fitting 2 folds for each of 5 candidates, totalling 10 fits\n",
            "Fitting 2 folds for each of 5 candidates, totalling 10 fits\n",
            "---------------- Best Params for catBoost -------------------\n",
            "{'learning_rate': 0.03, 'l2_leaf_reg': 3, 'iterations': 100, 'depth': 8}\n",
            "---------------- Best Params for SVC -------------------\n",
            "{'kernel': 'linear', 'gamma': 'scale', 'degree': 4, 'C': 100}\n",
            "---------------- Best Params for DecisionTree -------------------\n",
            "{'splitter': 'best', 'min_samples_split': 2, 'min_samples_leaf': 1, 'max_features': None, 'max_depth': 9, 'criterion': 'entropy'}\n"
          ]
        }
      ],
      "source": [
        "from sklearn.model_selection import RandomizedSearchCV\n",
        "\n",
        "model_param = {}\n",
        "for name, model, params in randomcv_models:\n",
        "    random = RandomizedSearchCV(estimator=model,\n",
        "                                   param_distributions=params,\n",
        "                                   n_iter=5,\n",
        "                                   cv=2,\n",
        "                                   verbose=1, \n",
        "                                   n_jobs=-1)\n",
        "    random.fit(features_final, outcome_r)\n",
        "    model_param[name] = random.best_params_\n",
        "\n",
        "for model_name in model_param:\n",
        "    print(f\"---------------- Best Params for {model_name} -------------------\")\n",
        "    print(model_param[model_name])"
      ]
    },
    {
      "cell_type": "code",
      "execution_count": 50,
      "id": "83b5de27",
      "metadata": {},
      "outputs": [
        {
          "data": {
            "text/plain": [
              "{'catBoost': {'learning_rate': 0.03,\n",
              "  'l2_leaf_reg': 3,\n",
              "  'iterations': 100,\n",
              "  'depth': 8},\n",
              " 'SVC': {'kernel': 'linear', 'gamma': 'scale', 'degree': 4, 'C': 100},\n",
              " 'DecisionTree': {'splitter': 'best',\n",
              "  'min_samples_split': 2,\n",
              "  'min_samples_leaf': 1,\n",
              "  'max_features': None,\n",
              "  'max_depth': 9,\n",
              "  'criterion': 'entropy'}}"
            ]
          },
          "execution_count": 50,
          "metadata": {},
          "output_type": "execute_result"
        }
      ],
      "source": [
        "model_param"
      ]
    },
    {
      "cell_type": "markdown",
      "id": "616ebc0a",
      "metadata": {
        "id": "616ebc0a"
      },
      "source": [
        "## Retraining the Model with best Parameters"
      ]
    },
    {
      "cell_type": "code",
      "execution_count": 51,
      "id": "5738ae2c",
      "metadata": {
        "id": "5738ae2c",
        "outputId": "25600fb4-c963-4bf7-ba2c-d02cf4d5962e"
      },
      "outputs": [
        {
          "name": "stdout",
          "output_type": "stream",
          "text": [
            "decision tree\n",
            "Model performance for Training set\n",
            "- Accuracy: 0.9495\n",
            "- F1 score: 0.9274\n",
            "- Precision: 0.9252\n",
            "- Recall: 0.9296\n",
            "- Roc Auc Score: 0.9448\n",
            "----------------------------------\n",
            "Model performance for Test set\n",
            "- Accuracy: 0.7597\n",
            "- F1 score: 0.6726\n",
            "- Precision: 0.6552\n",
            "- Recall: 0.6909\n",
            "- Roc Auc Score: 0.7444\n",
            "===================================\n",
            "\n",
            "\n",
            "SVC\n",
            "Model performance for Training set\n",
            "- Accuracy: 0.7769\n",
            "- F1 score: 0.6496\n",
            "- Precision: 0.7135\n",
            "- Recall: 0.5962\n",
            "- Roc Auc Score: 0.7345\n",
            "----------------------------------\n",
            "Model performance for Test set\n",
            "- Accuracy: 0.7338\n",
            "- F1 score: 0.6435\n",
            "- Precision: 0.6167\n",
            "- Recall: 0.6727\n",
            "- Roc Auc Score: 0.7202\n",
            "===================================\n",
            "\n",
            "\n",
            "0:\tlearn: 0.6849015\ttotal: 4.35ms\tremaining: 431ms\n",
            "1:\tlearn: 0.6777098\ttotal: 8.3ms\tremaining: 407ms\n",
            "2:\tlearn: 0.6704707\ttotal: 11.9ms\tremaining: 386ms\n",
            "3:\tlearn: 0.6641540\ttotal: 16.1ms\tremaining: 387ms\n",
            "4:\tlearn: 0.6583500\ttotal: 20.1ms\tremaining: 381ms\n",
            "5:\tlearn: 0.6523895\ttotal: 23.8ms\tremaining: 373ms\n",
            "6:\tlearn: 0.6455810\ttotal: 27.2ms\tremaining: 361ms\n",
            "7:\tlearn: 0.6402822\ttotal: 31.4ms\tremaining: 361ms\n",
            "8:\tlearn: 0.6355574\ttotal: 35ms\tremaining: 354ms\n",
            "9:\tlearn: 0.6302652\ttotal: 36.6ms\tremaining: 329ms\n",
            "10:\tlearn: 0.6258136\ttotal: 40ms\tremaining: 323ms\n",
            "11:\tlearn: 0.6205312\ttotal: 43.6ms\tremaining: 320ms\n",
            "12:\tlearn: 0.6162054\ttotal: 47.5ms\tremaining: 318ms\n",
            "13:\tlearn: 0.6112908\ttotal: 51.2ms\tremaining: 315ms\n",
            "14:\tlearn: 0.6078287\ttotal: 54.8ms\tremaining: 310ms\n",
            "15:\tlearn: 0.6032916\ttotal: 58.2ms\tremaining: 306ms\n",
            "16:\tlearn: 0.5991170\ttotal: 62.3ms\tremaining: 304ms\n",
            "17:\tlearn: 0.5946502\ttotal: 65.8ms\tremaining: 300ms\n",
            "18:\tlearn: 0.5898404\ttotal: 69.6ms\tremaining: 297ms\n",
            "19:\tlearn: 0.5858504\ttotal: 72.8ms\tremaining: 291ms\n",
            "20:\tlearn: 0.5824676\ttotal: 79ms\tremaining: 297ms\n",
            "21:\tlearn: 0.5789115\ttotal: 83ms\tremaining: 294ms\n",
            "22:\tlearn: 0.5747640\ttotal: 86.6ms\tremaining: 290ms\n",
            "23:\tlearn: 0.5705499\ttotal: 90.5ms\tremaining: 287ms\n",
            "24:\tlearn: 0.5675951\ttotal: 94.3ms\tremaining: 283ms\n",
            "25:\tlearn: 0.5639024\ttotal: 98ms\tremaining: 279ms\n",
            "26:\tlearn: 0.5599177\ttotal: 101ms\tremaining: 274ms\n",
            "27:\tlearn: 0.5559729\ttotal: 104ms\tremaining: 269ms\n",
            "28:\tlearn: 0.5530470\ttotal: 108ms\tremaining: 266ms\n",
            "29:\tlearn: 0.5493584\ttotal: 112ms\tremaining: 261ms\n",
            "30:\tlearn: 0.5459526\ttotal: 115ms\tremaining: 256ms\n",
            "31:\tlearn: 0.5424030\ttotal: 118ms\tremaining: 251ms\n",
            "32:\tlearn: 0.5391361\ttotal: 121ms\tremaining: 246ms\n",
            "33:\tlearn: 0.5353918\ttotal: 125ms\tremaining: 243ms\n",
            "34:\tlearn: 0.5326099\ttotal: 129ms\tremaining: 239ms\n",
            "35:\tlearn: 0.5302042\ttotal: 131ms\tremaining: 234ms\n",
            "36:\tlearn: 0.5272353\ttotal: 135ms\tremaining: 229ms\n",
            "37:\tlearn: 0.5246460\ttotal: 138ms\tremaining: 225ms\n",
            "38:\tlearn: 0.5221006\ttotal: 143ms\tremaining: 223ms\n",
            "39:\tlearn: 0.5195078\ttotal: 146ms\tremaining: 219ms\n",
            "40:\tlearn: 0.5164863\ttotal: 149ms\tremaining: 215ms\n",
            "41:\tlearn: 0.5137717\ttotal: 152ms\tremaining: 210ms\n",
            "42:\tlearn: 0.5112920\ttotal: 156ms\tremaining: 207ms\n",
            "43:\tlearn: 0.5085778\ttotal: 160ms\tremaining: 203ms\n",
            "44:\tlearn: 0.5061050\ttotal: 163ms\tremaining: 199ms\n",
            "45:\tlearn: 0.5036345\ttotal: 166ms\tremaining: 195ms\n",
            "46:\tlearn: 0.5013336\ttotal: 169ms\tremaining: 191ms\n",
            "47:\tlearn: 0.4990089\ttotal: 174ms\tremaining: 188ms\n",
            "48:\tlearn: 0.4969755\ttotal: 177ms\tremaining: 184ms\n",
            "49:\tlearn: 0.4950896\ttotal: 180ms\tremaining: 180ms\n",
            "50:\tlearn: 0.4929468\ttotal: 183ms\tremaining: 176ms\n",
            "51:\tlearn: 0.4906539\ttotal: 189ms\tremaining: 174ms\n",
            "52:\tlearn: 0.4886104\ttotal: 193ms\tremaining: 171ms\n",
            "53:\tlearn: 0.4861910\ttotal: 196ms\tremaining: 167ms\n",
            "54:\tlearn: 0.4843308\ttotal: 199ms\tremaining: 163ms\n",
            "55:\tlearn: 0.4824047\ttotal: 203ms\tremaining: 159ms\n",
            "56:\tlearn: 0.4802585\ttotal: 207ms\tremaining: 156ms\n",
            "57:\tlearn: 0.4781012\ttotal: 210ms\tremaining: 152ms\n",
            "58:\tlearn: 0.4760687\ttotal: 214ms\tremaining: 149ms\n",
            "59:\tlearn: 0.4739563\ttotal: 217ms\tremaining: 145ms\n",
            "60:\tlearn: 0.4725960\ttotal: 221ms\tremaining: 141ms\n",
            "61:\tlearn: 0.4709733\ttotal: 225ms\tremaining: 138ms\n",
            "62:\tlearn: 0.4691001\ttotal: 228ms\tremaining: 134ms\n",
            "63:\tlearn: 0.4674226\ttotal: 231ms\tremaining: 130ms\n",
            "64:\tlearn: 0.4658605\ttotal: 235ms\tremaining: 127ms\n",
            "65:\tlearn: 0.4639683\ttotal: 238ms\tremaining: 123ms\n",
            "66:\tlearn: 0.4622984\ttotal: 242ms\tremaining: 119ms\n",
            "67:\tlearn: 0.4607513\ttotal: 245ms\tremaining: 115ms\n",
            "68:\tlearn: 0.4594380\ttotal: 248ms\tremaining: 111ms\n",
            "69:\tlearn: 0.4577912\ttotal: 252ms\tremaining: 108ms\n",
            "70:\tlearn: 0.4560406\ttotal: 256ms\tremaining: 105ms\n",
            "71:\tlearn: 0.4543016\ttotal: 259ms\tremaining: 101ms\n",
            "72:\tlearn: 0.4525795\ttotal: 262ms\tremaining: 97ms\n",
            "73:\tlearn: 0.4512264\ttotal: 266ms\tremaining: 93.4ms\n",
            "74:\tlearn: 0.4498878\ttotal: 269ms\tremaining: 89.8ms\n",
            "75:\tlearn: 0.4481040\ttotal: 273ms\tremaining: 86.1ms\n",
            "76:\tlearn: 0.4464880\ttotal: 276ms\tremaining: 82.4ms\n",
            "77:\tlearn: 0.4453389\ttotal: 279ms\tremaining: 78.7ms\n",
            "78:\tlearn: 0.4439176\ttotal: 284ms\tremaining: 75.5ms\n",
            "79:\tlearn: 0.4425784\ttotal: 287ms\tremaining: 71.8ms\n",
            "80:\tlearn: 0.4413811\ttotal: 291ms\tremaining: 68.1ms\n",
            "81:\tlearn: 0.4397749\ttotal: 294ms\tremaining: 64.5ms\n",
            "82:\tlearn: 0.4382812\ttotal: 297ms\tremaining: 60.9ms\n",
            "83:\tlearn: 0.4371956\ttotal: 301ms\tremaining: 57.2ms\n",
            "84:\tlearn: 0.4359063\ttotal: 303ms\tremaining: 53.5ms\n",
            "85:\tlearn: 0.4346994\ttotal: 306ms\tremaining: 49.8ms\n",
            "86:\tlearn: 0.4334227\ttotal: 309ms\tremaining: 46.1ms\n",
            "87:\tlearn: 0.4320784\ttotal: 311ms\tremaining: 42.5ms\n",
            "88:\tlearn: 0.4311054\ttotal: 315ms\tremaining: 39ms\n",
            "89:\tlearn: 0.4299457\ttotal: 318ms\tremaining: 35.3ms\n",
            "90:\tlearn: 0.4286790\ttotal: 321ms\tremaining: 31.7ms\n",
            "91:\tlearn: 0.4275532\ttotal: 323ms\tremaining: 28.1ms\n",
            "92:\tlearn: 0.4262753\ttotal: 326ms\tremaining: 24.5ms\n",
            "93:\tlearn: 0.4250560\ttotal: 329ms\tremaining: 21ms\n",
            "94:\tlearn: 0.4237101\ttotal: 332ms\tremaining: 17.5ms\n",
            "95:\tlearn: 0.4226142\ttotal: 335ms\tremaining: 13.9ms\n",
            "96:\tlearn: 0.4212405\ttotal: 337ms\tremaining: 10.4ms\n",
            "97:\tlearn: 0.4199755\ttotal: 340ms\tremaining: 6.93ms\n",
            "98:\tlearn: 0.4186910\ttotal: 343ms\tremaining: 3.46ms\n",
            "99:\tlearn: 0.4176405\ttotal: 347ms\tremaining: 0us\n",
            "catboost\n",
            "Model performance for Training set\n",
            "- Accuracy: 0.8534\n",
            "- F1 score: 0.7619\n",
            "- Precision: 0.8727\n",
            "- Recall: 0.6761\n",
            "- Roc Auc Score: 0.8118\n",
            "----------------------------------\n",
            "Model performance for Test set\n",
            "- Accuracy: 0.7727\n",
            "- F1 score: 0.6667\n",
            "- Precision: 0.7000\n",
            "- Recall: 0.6364\n",
            "- Roc Auc Score: 0.7424\n",
            "===================================\n",
            "\n",
            "\n"
          ]
        }
      ],
      "source": [
        "from sklearn.metrics import roc_auc_score,roc_curve\n",
        "best_models = {\n",
        "    \"decision tree\": DecisionTreeClassifier(**model_param['DecisionTree']),\n",
        "    \"SVC\": SVC(**model_param['SVC']),\n",
        "    \"catboost\": CatBoostClassifier(**model_param['catBoost']),\n",
        "}\n",
        "tuned_report =evaluate_models(X=features_final, y=outcome_r, models=best_models)"
      ]
    },
    {
      "cell_type": "code",
      "execution_count": 52,
      "id": "3ebcc3e2",
      "metadata": {
        "id": "3ebcc3e2",
        "outputId": "870a295b-85c5-4204-cb8f-178bc6ccd9a6"
      },
      "outputs": [
        {
          "data": {
            "text/html": [
              "<div>\n",
              "<style scoped>\n",
              "    .dataframe tbody tr th:only-of-type {\n",
              "        vertical-align: middle;\n",
              "    }\n",
              "\n",
              "    .dataframe tbody tr th {\n",
              "        vertical-align: top;\n",
              "    }\n",
              "\n",
              "    .dataframe thead th {\n",
              "        text-align: right;\n",
              "    }\n",
              "</style>\n",
              "<table border=\"1\" class=\"dataframe\">\n",
              "  <thead>\n",
              "    <tr style=\"text-align: right;\">\n",
              "      <th></th>\n",
              "      <th>Model Name</th>\n",
              "      <th>Accuracy</th>\n",
              "    </tr>\n",
              "  </thead>\n",
              "  <tbody>\n",
              "    <tr>\n",
              "      <th>2</th>\n",
              "      <td>catboost</td>\n",
              "      <td>0.772727</td>\n",
              "    </tr>\n",
              "    <tr>\n",
              "      <th>0</th>\n",
              "      <td>decision tree</td>\n",
              "      <td>0.759740</td>\n",
              "    </tr>\n",
              "    <tr>\n",
              "      <th>1</th>\n",
              "      <td>SVC</td>\n",
              "      <td>0.733766</td>\n",
              "    </tr>\n",
              "  </tbody>\n",
              "</table>\n",
              "</div>"
            ],
            "text/plain": [
              "      Model Name  Accuracy\n",
              "2       catboost  0.772727\n",
              "0  decision tree  0.759740\n",
              "1            SVC  0.733766"
            ]
          },
          "execution_count": 52,
          "metadata": {},
          "output_type": "execute_result"
        }
      ],
      "source": [
        "tuned_report"
      ]
    },
    {
      "cell_type": "code",
      "execution_count": 53,
      "id": "a4beb9bb",
      "metadata": {
        "id": "a4beb9bb",
        "outputId": "fde92afe-af72-428a-e4d9-d44a094b28ad"
      },
      "outputs": [
        {
          "name": "stdout",
          "output_type": "stream",
          "text": [
            "FINAL MODEL 'SVC'\n",
            "Accuracy Score value: 0.7338\n",
            "              precision    recall  f1-score   support\n",
            "\n",
            "           0       0.81      0.77      0.79        99\n",
            "           1       0.62      0.67      0.64        55\n",
            "\n",
            "    accuracy                           0.73       154\n",
            "   macro avg       0.71      0.72      0.72       154\n",
            "weighted avg       0.74      0.73      0.74       154\n",
            "\n"
          ]
        }
      ],
      "source": [
        "best_model = SVC(**model_param['SVC'])\n",
        "best_model = best_model.fit(X_train,y_train)\n",
        "y_pred = best_model.predict(X_test)\n",
        "score = accuracy_score(y_test,y_pred)\n",
        "cr = classification_report(y_test,y_pred)\n",
        "\n",
        "print(\"FINAL MODEL 'SVC'\")\n",
        "print (\"Accuracy Score value: {:.4f}\".format(score))\n",
        "print (cr)"
      ]
    },
    {
      "cell_type": "code",
      "execution_count": 54,
      "id": "8bd89efe",
      "metadata": {
        "id": "8bd89efe",
        "outputId": "3078255a-0670-492a-8d4a-ab6aa891ef2f"
      },
      "outputs": [
        {
          "data": {
            "text/plain": [
              "<sklearn.metrics._plot.confusion_matrix.ConfusionMatrixDisplay at 0x1d0e9523890>"
            ]
          },
          "execution_count": 54,
          "metadata": {},
          "output_type": "execute_result"
        },
        {
          "data": {
            "image/png": "[encoded data removed]",
            "text/plain": [
              "<Figure size 640x480 with 2 Axes>"
            ]
          },
          "metadata": {},
          "output_type": "display_data"
        }
      ],
      "source": [
        "from sklearn.metrics import ConfusionMatrixDisplay\n",
        "ConfusionMatrixDisplay.from_estimator(best_model, X_test, y_test)"
      ]
    }
  ],
  "metadata": {
    "colab": {
      "provenance": []
    },
    "kernelspec": {
      "display_name": "Python 3",
      "language": "python",
      "name": "python3"
    },
    "language_info": {
      "codemirror_mode": {
        "name": "ipython",
        "version": 3
      },
      "file_extension": ".py",
      "mimetype": "text/x-python",
      "name": "python",
      "nbconvert_exporter": "python",
      "pygments_lexer": "ipython3",
      "version": "3.12.3"
    },
    "vscode": {
      "interpreter": {
        "hash": "e6422fc631fadc7a14dbe43d10d544a88c5583408f68c588bbe9704b9c540dab"
      }
    }
  },
  "nbformat": 4,
  "nbformat_minor": 5
}
