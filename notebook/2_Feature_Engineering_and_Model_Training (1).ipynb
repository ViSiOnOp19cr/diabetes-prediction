{
  "cells": [
    {
      "cell_type": "markdown",
      "id": "4437a980",
      "metadata": {
        "id": "4437a980"
      },
      "source": [
        "# Data Pre-Processing"
      ]
    },
    {
      "cell_type": "markdown",
      "id": "74b4d7e0",
      "metadata": {
        "id": "74b4d7e0"
      },
      "source": [
        "#### Import Packages and CSV"
      ]
    },
    {
      "cell_type": "code",
      "execution_count": 2,
      "id": "5530cc59",
      "metadata": {
        "id": "5530cc59",
        "outputId": "5fa0529c-5adf-480a-b56f-116e14b8514e"
      },
      "outputs": [
        {
          "name": "stdout",
          "output_type": "stream",
          "text": [
            "(768, 9)\n"
          ]
        }
      ],
      "source": [
        "import pandas as pd\n",
        "import numpy as np\n",
        "import matplotlib.pyplot as plt\n",
        "import seaborn as sns\n",
        "import warnings\n",
        "warnings.filterwarnings(\"ignore\")\n",
        "pd.pandas.set_option(\"display.max_columns\", None)\n",
        "# Create Dataframe\n",
        "df = pd.read_csv(r\"diabetes.csv\")\n",
        "# Print shape of dataset\n",
        "print(df.shape)"
      ]
    },
    {
      "cell_type": "markdown",
      "id": "c27265bd",
      "metadata": {
        "id": "c27265bd"
      },
      "source": [
        "## Data Cleaning"
      ]
    },
    {
      "cell_type": "markdown",
      "id": "dbad805a",
      "metadata": {
        "id": "dbad805a"
      },
      "source": [
        "### Handling Missing values"
      ]
    },
    {
      "cell_type": "markdown",
      "id": "0a0c1c0d",
      "metadata": {
        "id": "0a0c1c0d"
      },
      "source": [
        "* Handling Missing values \n",
        "* Handling Duplicates\n",
        "* Check data type\n",
        "* Understand the dataset"
      ]
    },
    {
      "cell_type": "markdown",
      "id": "40b4a428",
      "metadata": {
        "id": "40b4a428"
      },
      "source": [
        "#### Check Null Values"
      ]
    },
    {
      "cell_type": "code",
      "execution_count": 3,
      "id": "2b94aa8f",
      "metadata": {
        "id": "2b94aa8f"
      },
      "outputs": [],
      "source": [
        "##these are the features with nan value\n",
        "features_with_na=[features for features in df.columns if df[features].isnull().sum()>=1]\n",
        "for feature in features_with_na:\n",
        "    print(feature,np.round(df[feature].isnull().mean()*100,5), '% missing values')"
      ]
    },
    {
      "cell_type": "code",
      "execution_count": 4,
      "id": "f08d8e60",
      "metadata": {},
      "outputs": [
        {
          "data": {
            "text/plain": [
              "[]"
            ]
          },
          "execution_count": 4,
          "metadata": {},
          "output_type": "execute_result"
        }
      ],
      "source": [
        "features_with_na"
      ]
    },
    {
      "cell_type": "markdown",
      "id": "31bb11b3",
      "metadata": {
        "id": "31bb11b3"
      },
      "source": [
        "* **There are no null values in the dataset**"
      ]
    },
    {
      "cell_type": "markdown",
      "id": "76eafe12",
      "metadata": {
        "id": "76eafe12"
      },
      "source": [
        "### 3.2 Other Data Cleaning steps"
      ]
    },
    {
      "cell_type": "markdown",
      "id": "471fd48f",
      "metadata": {
        "id": "471fd48f"
      },
      "source": [
        "**Handling Duplicates**"
      ]
    },
    {
      "cell_type": "code",
      "execution_count": 5,
      "id": "d8fa17e0",
      "metadata": {
        "id": "d8fa17e0",
        "outputId": "7f1d6a37-65e2-4b4f-f201-69b9c3a80150"
      },
      "outputs": [
        {
          "data": {
            "text/plain": [
              "0"
            ]
          },
          "execution_count": 5,
          "metadata": {},
          "output_type": "execute_result"
        }
      ],
      "source": [
        "df.duplicated().sum()"
      ]
    },
    {
      "cell_type": "markdown",
      "id": "3f574d4c",
      "metadata": {
        "id": "3f574d4c"
      },
      "source": [
        "* **No Duplicates in the dataset**"
      ]
    },
    {
      "cell_type": "markdown",
      "id": "5cf6d275",
      "metadata": {
        "id": "5cf6d275"
      },
      "source": [
        "**Remove case_id from the dataset as it cannot used in Model Training**"
      ]
    },
    {
      "cell_type": "code",
      "execution_count": 5,
      "id": "828c0a89",
      "metadata": {
        "id": "828c0a89"
      },
      "outputs": [],
      "source": [
        "df.drop('case_id', inplace=True, axis=1)"
      ]
    },
    {
      "cell_type": "markdown",
      "id": "6d48a184",
      "metadata": {
        "id": "6d48a184"
      },
      "source": [
        "# Feature Engineering"
      ]
    },
    {
      "cell_type": "markdown",
      "id": "8453d379",
      "metadata": {
        "id": "8453d379"
      },
      "source": [
        "## Feature Extraction"
      ]
    },
    {
      "cell_type": "code",
      "execution_count": 6,
      "id": "40ec4ef6",
      "metadata": {},
      "outputs": [
        {
          "data": {
            "text/html": [
              "<div>\n",
              "<style scoped>\n",
              "    .dataframe tbody tr th:only-of-type {\n",
              "        vertical-align: middle;\n",
              "    }\n",
              "\n",
              "    .dataframe tbody tr th {\n",
              "        vertical-align: top;\n",
              "    }\n",
              "\n",
              "    .dataframe thead th {\n",
              "        text-align: right;\n",
              "    }\n",
              "</style>\n",
              "<table border=\"1\" class=\"dataframe\">\n",
              "  <thead>\n",
              "    <tr style=\"text-align: right;\">\n",
              "      <th></th>\n",
              "      <th>Pregnancies</th>\n",
              "      <th>Glucose</th>\n",
              "      <th>BloodPressure</th>\n",
              "      <th>SkinThickness</th>\n",
              "      <th>Insulin</th>\n",
              "      <th>BMI</th>\n",
              "      <th>DiabetesPedigreeFunction</th>\n",
              "      <th>Age</th>\n",
              "      <th>Outcome</th>\n",
              "    </tr>\n",
              "  </thead>\n",
              "  <tbody>\n",
              "    <tr>\n",
              "      <th>0</th>\n",
              "      <td>6</td>\n",
              "      <td>148</td>\n",
              "      <td>72</td>\n",
              "      <td>35</td>\n",
              "      <td>0</td>\n",
              "      <td>33.6</td>\n",
              "      <td>0.627</td>\n",
              "      <td>50</td>\n",
              "      <td>1</td>\n",
              "    </tr>\n",
              "    <tr>\n",
              "      <th>1</th>\n",
              "      <td>1</td>\n",
              "      <td>85</td>\n",
              "      <td>66</td>\n",
              "      <td>29</td>\n",
              "      <td>0</td>\n",
              "      <td>26.6</td>\n",
              "      <td>0.351</td>\n",
              "      <td>31</td>\n",
              "      <td>0</td>\n",
              "    </tr>\n",
              "    <tr>\n",
              "      <th>2</th>\n",
              "      <td>8</td>\n",
              "      <td>183</td>\n",
              "      <td>64</td>\n",
              "      <td>0</td>\n",
              "      <td>0</td>\n",
              "      <td>23.3</td>\n",
              "      <td>0.672</td>\n",
              "      <td>32</td>\n",
              "      <td>1</td>\n",
              "    </tr>\n",
              "    <tr>\n",
              "      <th>3</th>\n",
              "      <td>1</td>\n",
              "      <td>89</td>\n",
              "      <td>66</td>\n",
              "      <td>23</td>\n",
              "      <td>94</td>\n",
              "      <td>28.1</td>\n",
              "      <td>0.167</td>\n",
              "      <td>21</td>\n",
              "      <td>0</td>\n",
              "    </tr>\n",
              "    <tr>\n",
              "      <th>4</th>\n",
              "      <td>0</td>\n",
              "      <td>137</td>\n",
              "      <td>40</td>\n",
              "      <td>35</td>\n",
              "      <td>168</td>\n",
              "      <td>43.1</td>\n",
              "      <td>2.288</td>\n",
              "      <td>33</td>\n",
              "      <td>1</td>\n",
              "    </tr>\n",
              "  </tbody>\n",
              "</table>\n",
              "</div>"
            ],
            "text/plain": [
              "   Pregnancies  Glucose  BloodPressure  SkinThickness  Insulin   BMI  \\\n",
              "0            6      148             72             35        0  33.6   \n",
              "1            1       85             66             29        0  26.6   \n",
              "2            8      183             64              0        0  23.3   \n",
              "3            1       89             66             23       94  28.1   \n",
              "4            0      137             40             35      168  43.1   \n",
              "\n",
              "   DiabetesPedigreeFunction  Age  Outcome  \n",
              "0                     0.627   50        1  \n",
              "1                     0.351   31        0  \n",
              "2                     0.672   32        1  \n",
              "3                     0.167   21        0  \n",
              "4                     2.288   33        1  "
            ]
          },
          "execution_count": 6,
          "metadata": {},
          "output_type": "execute_result"
        }
      ],
      "source": [
        "df.head()"
      ]
    },
    {
      "cell_type": "code",
      "execution_count": 7,
      "id": "8eac04de",
      "metadata": {
        "id": "8eac04de"
      },
      "outputs": [],
      "source": [
        "# importing date class from datetime module\n",
        "from datetime import date\n",
        "  \n",
        "# creating the date object of today's date\n",
        "todays_date = date.today()\n",
        "current_year= todays_date.year"
      ]
    },
    {
      "cell_type": "code",
      "execution_count": 8,
      "id": "b9cc4d34",
      "metadata": {},
      "outputs": [
        {
          "data": {
            "text/plain": [
              "2024"
            ]
          },
          "execution_count": 8,
          "metadata": {},
          "output_type": "execute_result"
        }
      ],
      "source": [
        "current_year"
      ]
    },
    {
      "cell_type": "markdown",
      "id": "66542de1",
      "metadata": {
        "id": "66542de1"
      },
      "source": [
        "### Type of Features"
      ]
    },
    {
      "cell_type": "markdown",
      "id": "85df52e5",
      "metadata": {
        "id": "85df52e5"
      },
      "source": [
        "**Numeric Features**"
      ]
    },
    {
      "cell_type": "code",
      "execution_count": 9,
      "id": "d48aeaa4",
      "metadata": {
        "id": "d48aeaa4",
        "outputId": "3472d509-3613-408a-b2e0-7e04e3ba694a"
      },
      "outputs": [
        {
          "name": "stdout",
          "output_type": "stream",
          "text": [
            "Num of Numerical Features : 9\n"
          ]
        }
      ],
      "source": [
        "num_features = [feature for feature in df.columns if df[feature].dtype != 'O']\n",
        "print('Num of Numerical Features :', len(num_features))"
      ]
    },
    {
      "cell_type": "markdown",
      "id": "e1107060",
      "metadata": {
        "id": "e1107060"
      },
      "source": [
        "**Categorical Features**"
      ]
    },
    {
      "cell_type": "code",
      "execution_count": 10,
      "id": "ff997805",
      "metadata": {
        "id": "ff997805",
        "outputId": "3dd63e00-7af0-48de-d7bb-5d1f51c557de"
      },
      "outputs": [
        {
          "name": "stdout",
          "output_type": "stream",
          "text": [
            "Num of Categorical Features : 0\n"
          ]
        }
      ],
      "source": [
        "cat_features = [feature for feature in df.columns if df[feature].dtype == 'O']\n",
        "print('Num of Categorical Features :', len(cat_features))"
      ]
    },
    {
      "cell_type": "markdown",
      "id": "9bc032f9",
      "metadata": {
        "id": "9bc032f9"
      },
      "source": [
        "**Discrete features**"
      ]
    },
    {
      "cell_type": "code",
      "execution_count": 11,
      "id": "812ee6e0",
      "metadata": {
        "id": "812ee6e0",
        "outputId": "0181bd9a-5f2b-4292-8a57-d9c683d2e128"
      },
      "outputs": [
        {
          "name": "stdout",
          "output_type": "stream",
          "text": [
            "Num of Discrete Features : 2\n"
          ]
        }
      ],
      "source": [
        "discrete_features=[feature for feature in num_features if len(df[feature].unique())<=25]\n",
        "print('Num of Discrete Features :',len(discrete_features))"
      ]
    },
    {
      "cell_type": "markdown",
      "id": "3e6740bf",
      "metadata": {
        "id": "3e6740bf"
      },
      "source": [
        "**Continues Features**"
      ]
    },
    {
      "cell_type": "code",
      "execution_count": 12,
      "id": "e501c72b",
      "metadata": {
        "id": "e501c72b",
        "outputId": "c10010b4-eb51-406e-afc4-464894031222"
      },
      "outputs": [
        {
          "name": "stdout",
          "output_type": "stream",
          "text": [
            "Num of Continuous Features : 7\n"
          ]
        }
      ],
      "source": [
        "continuous_features=[feature for feature in num_features if feature not in discrete_features]\n",
        "print('Num of Continuous Features :',len(continuous_features))"
      ]
    },
    {
      "cell_type": "markdown",
      "id": "5a2cf140",
      "metadata": {
        "id": "5a2cf140"
      },
      "source": [
        "### Split X and Y"
      ]
    },
    {
      "cell_type": "markdown",
      "id": "9455c01a",
      "metadata": {
        "id": "9455c01a"
      },
      "source": [
        "* **Split Dataframe to X and y**\n",
        "* **Here we set a variable X i.e, independent columns, and a variable y i.e, dependent column as the “Case_Status” column.**\n"
      ]
    },
    {
      "cell_type": "code",
      "execution_count": 13,
      "id": "4434aa31",
      "metadata": {
        "id": "4434aa31"
      },
      "outputs": [],
      "source": [
        "X = df.drop('Outcome', axis=1)\n",
        "y = df['Outcome']"
      ]
    },
    {
      "cell_type": "code",
      "execution_count": 14,
      "id": "67a428d4",
      "metadata": {},
      "outputs": [
        {
          "data": {
            "text/plain": [
              "0    1\n",
              "1    0\n",
              "2    1\n",
              "3    0\n",
              "4    1\n",
              "Name: Outcome, dtype: int64"
            ]
          },
          "execution_count": 14,
          "metadata": {},
          "output_type": "execute_result"
        }
      ],
      "source": [
        "y.head()"
      ]
    },
    {
      "cell_type": "markdown",
      "id": "f2260600",
      "metadata": {
        "id": "f2260600"
      },
      "source": [
        "**Manual encoding target column**"
      ]
    },
    {
      "cell_type": "code",
      "execution_count": 18,
      "id": "7a9d7c95",
      "metadata": {
        "id": "7a9d7c95"
      },
      "outputs": [],
      "source": [
        "# If the target column has Denied it is encoded as 1 others as 0\n",
        "y= np.where(y=='Denied', 1,0)"
      ]
    },
    {
      "cell_type": "code",
      "execution_count": 19,
      "id": "398fad76",
      "metadata": {},
      "outputs": [
        {
          "data": {
            "text/plain": [
              "array([1, 0, 1, ..., 0, 0, 0])"
            ]
          },
          "execution_count": 19,
          "metadata": {},
          "output_type": "execute_result"
        }
      ],
      "source": [
        "y"
      ]
    },
    {
      "cell_type": "markdown",
      "id": "ca2d817d",
      "metadata": {
        "id": "ca2d817d"
      },
      "source": [
        "## Feature Transformation"
      ]
    },
    {
      "cell_type": "code",
      "execution_count": 20,
      "id": "a921c3a0",
      "metadata": {
        "id": "a921c3a0",
        "outputId": "84d46867-1130-41fc-9dca-e5087fccb83d",
        "scrolled": false
      },
      "outputs": [
        {
          "data": {
            "image/png": "[encoded data removed]",
            "text/plain": [
              "<Figure size 1200x600 with 3 Axes>"
            ]
          },
          "metadata": {},
          "output_type": "display_data"
        }
      ],
      "source": [
        "# distribution of data before scaling\n",
        "plt.figure(figsize=(12, 6))\n",
        "for i, col in enumerate(['no_of_employees','prevailing_wage','company_age']):\n",
        "    plt.subplot(2, 2, i+1)\n",
        "    sns.histplot(x=X[col], color='indianred')\n",
        "    plt.xlabel(col)\n",
        "    plt.tight_layout()"
      ]
    },
    {
      "cell_type": "markdown",
      "id": "993fca30",
      "metadata": {
        "id": "993fca30"
      },
      "source": [
        "* No of employees and Copmany age column is skewed\n",
        "* Apply a power transform featurewise to make data more Gaussian-like.\n",
        "\n",
        "Power transforms are a family of parametric, monotonic transformations that are applied to make data more Gaussian-like. This is useful for modeling issues related to heteroscedasticity (non-constant variance), or other situations where normality is desired.\n",
        "\n",
        "Currently, PowerTransformer supports the Box-Cox transform and the Yeo-Johnson transform."
      ]
    },
    {
      "cell_type": "markdown",
      "id": "a890a255",
      "metadata": {
        "id": "a890a255"
      },
      "source": [
        "**Checking Skewness**"
      ]
    },
    {
      "cell_type": "markdown",
      "id": "ca6ac67f",
      "metadata": {
        "id": "ca6ac67f"
      },
      "source": [
        "**What is Skewness ?**\n",
        "\n",
        "* Skewness refers to a distortion or asymmetry that deviates from the symmetrical bell curve, or normal distribution, in a set of data. If the curve is shifted to the left or to the right, it is said to be skewed. Skewness can be quantified as a representation of the extent to which a given distribution varies from a normal distribution. A normal distribution has a skew of zero"
      ]
    },
    {
      "cell_type": "code",
      "execution_count": 15,
      "id": "4038a207",
      "metadata": {
        "id": "4038a207",
        "outputId": "51497045-4d93-46f8-ea18-47d742680845"
      },
      "outputs": [
        {
          "data": {
            "text/plain": [
              "Glucose                     0.173754\n",
              "BloodPressure              -1.843608\n",
              "SkinThickness               0.109372\n",
              "Insulin                     2.272251\n",
              "BMI                        -0.428982\n",
              "DiabetesPedigreeFunction    1.919911\n",
              "Age                         1.129597\n",
              "dtype: float64"
            ]
          },
          "execution_count": 15,
          "metadata": {},
          "output_type": "execute_result"
        }
      ],
      "source": [
        "# Check Skewness\n",
        "X[continuous_features].skew(axis=0, skipna=True)"
      ]
    },
    {
      "cell_type": "markdown",
      "id": "1786c0ad",
      "metadata": {
        "id": "1786c0ad"
      },
      "source": [
        "- Positiviely Skewed : company_age, no_of_employees.\n",
        "- We can handle outliers and then check the skewness."
      ]
    },
    {
      "cell_type": "markdown",
      "id": "96c39509",
      "metadata": {
        "id": "96c39509"
      },
      "source": [
        "## Apply Power Transformer to Check if it can reduces the outliers"
      ]
    },
    {
      "cell_type": "code",
      "execution_count": 17,
      "id": "56ad9567",
      "metadata": {
        "id": "56ad9567"
      },
      "outputs": [],
      "source": [
        "from sklearn.preprocessing import PowerTransformer\n",
        "pt = PowerTransformer(method='yeo-johnson')\n",
        "transform_features = ['Glucose', 'SkinThickness','Insulin','DiabetesPedigreeFunction','Age']\n",
        "X_copy = pt.fit_transform(X[transform_features])"
      ]
    },
    {
      "cell_type": "code",
      "execution_count": 18,
      "id": "255b1c5e",
      "metadata": {
        "id": "255b1c5e"
      },
      "outputs": [],
      "source": [
        "X_copy = pd.DataFrame(X_copy, columns=transform_features)"
      ]
    },
    {
      "cell_type": "code",
      "execution_count": 20,
      "id": "b49bad36",
      "metadata": {
        "id": "b49bad36",
        "outputId": "d732f372-b0f2-4bed-9f4d-394d46891abb"
      },
      "outputs": [
        {
          "data": {
            "image/png": "[encoded data removed]",
            "text/plain": [
              "<Figure size 1200x500 with 5 Axes>"
            ]
          },
          "metadata": {},
          "output_type": "display_data"
        }
      ],
      "source": [
        "plt.figure(figsize=(12, 5))\n",
        "for i, col in enumerate(transform_features):\n",
        "    plt.subplot(3, 2, i+1)\n",
        "    sns.histplot(x=X_copy[col], color='indianred')\n",
        "    plt.xlabel(col)\n",
        "    plt.tight_layout()"
      ]
    },
    {
      "cell_type": "markdown",
      "id": "bb26baf6",
      "metadata": {
        "id": "bb26baf6"
      },
      "source": [
        "**Checking Skewness**"
      ]
    },
    {
      "cell_type": "code",
      "execution_count": 21,
      "id": "4c9a232a",
      "metadata": {
        "id": "4c9a232a",
        "outputId": "1ef33497-82c9-42b1-d17d-c62b5c5049ad"
      },
      "outputs": [
        {
          "data": {
            "text/plain": [
              "Glucose                     0.122640\n",
              "SkinThickness              -0.458444\n",
              "Insulin                     0.049581\n",
              "DiabetesPedigreeFunction    0.142321\n",
              "Age                         0.150219\n",
              "dtype: float64"
            ]
          },
          "execution_count": 21,
          "metadata": {},
          "output_type": "execute_result"
        }
      ],
      "source": [
        "X_copy.skew(axis=0, skipna=True)"
      ]
    },
    {
      "cell_type": "markdown",
      "id": "69c717fc",
      "metadata": {
        "id": "69c717fc"
      },
      "source": [
        "- Here Yeo-Johnson is used and it supports both positive or negative data for transformation.\n",
        "- So Power Transformer with yeo-johnson can be used."
      ]
    },
    {
      "cell_type": "code",
      "execution_count": 23,
      "id": "7740ff27",
      "metadata": {
        "id": "7740ff27",
        "outputId": "76d06e1f-cc70-41fa-91e2-6b99a2683eb4"
      },
      "outputs": [],
      "source": [
        "for feature in cat_features:\n",
        "    print(feature,':', df[feature].nunique())"
      ]
    },
    {
      "cell_type": "markdown",
      "id": "51a3853d",
      "metadata": {
        "id": "51a3853d"
      },
      "source": [
        "## Feature Encoding and Scaling"
      ]
    },
    {
      "cell_type": "markdown",
      "id": "29dbaf2d",
      "metadata": {
        "id": "29dbaf2d"
      },
      "source": [
        " **One Hot Encoding for Columns which had lesser unique values and not ordinal**\n",
        "* One hot encoding is a process by which categorical variables are converted into a form that could be provided to ML algorithms to do a better job in prediction.\n",
        "\n",
        "**Ordinal Encoding for Columns which has many unique categories** \n",
        "* Ordinal encoding is used here as label encoder is supported for column transformer.\n",
        "* Ordinal encoding is used for Ordinal Variable. Variable comprises a finite set of discrete values with a ranked ordering between values.\n",
        "\n",
        "**Standard Scaler** \n",
        "* Standardize features by removing the mean and scaling to unit variance.\n",
        "\n",
        "**Power Transformer**\n",
        "* Power transforms are a technique for transforming numerical input or output variables to have a Gaussian or more-Gaussian-like probability distribution."
      ]
    },
    {
      "cell_type": "markdown",
      "id": "e245a3af",
      "metadata": {
        "id": "e245a3af"
      },
      "source": [
        "**Selecting number features for preprocessing**"
      ]
    },
    {
      "cell_type": "code",
      "execution_count": 24,
      "id": "ef40892b",
      "metadata": {
        "id": "ef40892b"
      },
      "outputs": [],
      "source": [
        "num_features = list(X.select_dtypes(exclude=\"object\").columns)"
      ]
    },
    {
      "cell_type": "code",
      "execution_count": 25,
      "id": "5321209d",
      "metadata": {},
      "outputs": [
        {
          "data": {
            "text/plain": [
              "['Pregnancies',\n",
              " 'Glucose',\n",
              " 'BloodPressure',\n",
              " 'SkinThickness',\n",
              " 'Insulin',\n",
              " 'BMI',\n",
              " 'DiabetesPedigreeFunction',\n",
              " 'Age']"
            ]
          },
          "execution_count": 25,
          "metadata": {},
          "output_type": "execute_result"
        }
      ],
      "source": [
        "num_features"
      ]
    },
    {
      "cell_type": "markdown",
      "id": "2bccb0bc",
      "metadata": {
        "id": "2bccb0bc"
      },
      "source": [
        "### **Preprocessing using Column Transformer**"
      ]
    },
    {
      "cell_type": "code",
      "execution_count": 29,
      "id": "e9a2c9b5",
      "metadata": {
        "id": "e9a2c9b5"
      },
      "outputs": [],
      "source": [
        "# Create Column Transformer with 3 types of transformers\n",
        "or_columns = ['has_job_experience','requires_job_training','full_time_position','education_of_employee']\n",
        "oh_columns = ['continent','unit_of_wage','region_of_employment']\n",
        "transform_columns= ['no_of_employees','company_age']\n",
        "\n",
        "from sklearn.preprocessing import OneHotEncoder, StandardScaler,OrdinalEncoder, PowerTransformer\n",
        "from sklearn.compose import ColumnTransformer \n",
        "from sklearn.pipeline import Pipeline\n",
        "\n",
        "numeric_transformer = StandardScaler()\n",
        "oh_transformer = OneHotEncoder()\n",
        "ordinal_encoder = OrdinalEncoder()\n",
        "\n",
        "transform_pipe = Pipeline(steps=[\n",
        "    ('transformer', PowerTransformer(method='yeo-johnson'))\n",
        "])\n",
        "\n",
        "preprocessor = ColumnTransformer(\n",
        "    [\n",
        "        (\"OneHotEncoder\", oh_transformer, oh_columns),\n",
        "        (\"Ordinal_Encoder\", ordinal_encoder, or_columns),\n",
        "        (\"Transformer\", transform_pipe, transform_columns),\n",
        "        (\"StandardScaler\", numeric_transformer, num_features)\n",
        "    ]\n",
        ")"
      ]
    },
    {
      "cell_type": "code",
      "execution_count": 27,
      "id": "328d041f",
      "metadata": {
        "id": "328d041f"
      },
      "outputs": [
        {
          "ename": "NameError",
          "evalue": "name 'preprocessor' is not defined",
          "output_type": "error",
          "traceback": [
            "\u001b[1;31m---------------------------------------------------------------------------\u001b[0m",
            "\u001b[1;31mNameError\u001b[0m                                 Traceback (most recent call last)",
            "Cell \u001b[1;32mIn[27], line 4\u001b[0m\n\u001b[0;32m      2\u001b[0m \u001b[38;5;28;01mfrom\u001b[39;00m \u001b[38;5;21;01msklearn\u001b[39;00m\u001b[38;5;21;01m.\u001b[39;00m\u001b[38;5;21;01mcompose\u001b[39;00m \u001b[38;5;28;01mimport\u001b[39;00m ColumnTransformer \n\u001b[0;32m      3\u001b[0m \u001b[38;5;28;01mfrom\u001b[39;00m \u001b[38;5;21;01msklearn\u001b[39;00m\u001b[38;5;21;01m.\u001b[39;00m\u001b[38;5;21;01mpipeline\u001b[39;00m \u001b[38;5;28;01mimport\u001b[39;00m Pipeline\n\u001b[1;32m----> 4\u001b[0m X \u001b[38;5;241m=\u001b[39m \u001b[43mpreprocessor\u001b[49m\u001b[38;5;241m.\u001b[39mfit_transform(X)\n",
            "\u001b[1;31mNameError\u001b[0m: name 'preprocessor' is not defined"
          ]
        }
      ],
      "source": [
        "from sklearn.preprocessing import OneHotEncoder, StandardScaler,OrdinalEncoder, PowerTransformer\n",
        "from sklearn.compose import ColumnTransformer \n",
        "from sklearn.pipeline import Pipeline\n",
        "X = .fit_transform(X)"
      ]
    },
    {
      "cell_type": "code",
      "execution_count": 28,
      "id": "ef4a4a00",
      "metadata": {},
      "outputs": [],
      "source": [
        "outcome_r = df['Outcome'] #target label\n",
        "features_r = df.drop('Outcome', axis = 1) #other features\n",
        "skewed = ['SkinThickness','Insulin']\n",
        "features_log_transformed = pd.DataFrame(data = features_r)\n",
        "features_log_transformed[skewed] = features_r[skewed].apply(lambda x: np.log(x + 1))"
      ]
    },
    {
      "cell_type": "code",
      "execution_count": 29,
      "id": "123ea3a1",
      "metadata": {},
      "outputs": [
        {
          "data": {
            "text/html": [
              "<div>\n",
              "<style scoped>\n",
              "    .dataframe tbody tr th:only-of-type {\n",
              "        vertical-align: middle;\n",
              "    }\n",
              "\n",
              "    .dataframe tbody tr th {\n",
              "        vertical-align: top;\n",
              "    }\n",
              "\n",
              "    .dataframe thead th {\n",
              "        text-align: right;\n",
              "    }\n",
              "</style>\n",
              "<table border=\"1\" class=\"dataframe\">\n",
              "  <thead>\n",
              "    <tr style=\"text-align: right;\">\n",
              "      <th></th>\n",
              "      <th>Pregnancies</th>\n",
              "      <th>Glucose</th>\n",
              "      <th>BloodPressure</th>\n",
              "      <th>SkinThickness</th>\n",
              "      <th>Insulin</th>\n",
              "      <th>BMI</th>\n",
              "      <th>DiabetesPedigreeFunction</th>\n",
              "      <th>Age</th>\n",
              "    </tr>\n",
              "  </thead>\n",
              "  <tbody>\n",
              "    <tr>\n",
              "      <th>0</th>\n",
              "      <td>6</td>\n",
              "      <td>148</td>\n",
              "      <td>72</td>\n",
              "      <td>0.778151</td>\n",
              "      <td>0.000000</td>\n",
              "      <td>33.6</td>\n",
              "      <td>0.234415</td>\n",
              "      <td>50</td>\n",
              "    </tr>\n",
              "    <tr>\n",
              "      <th>1</th>\n",
              "      <td>1</td>\n",
              "      <td>85</td>\n",
              "      <td>66</td>\n",
              "      <td>0.738561</td>\n",
              "      <td>0.000000</td>\n",
              "      <td>26.6</td>\n",
              "      <td>0.116567</td>\n",
              "      <td>31</td>\n",
              "    </tr>\n",
              "    <tr>\n",
              "      <th>2</th>\n",
              "      <td>8</td>\n",
              "      <td>183</td>\n",
              "      <td>64</td>\n",
              "      <td>0.000000</td>\n",
              "      <td>0.000000</td>\n",
              "      <td>23.3</td>\n",
              "      <td>0.253629</td>\n",
              "      <td>32</td>\n",
              "    </tr>\n",
              "    <tr>\n",
              "      <th>3</th>\n",
              "      <td>1</td>\n",
              "      <td>89</td>\n",
              "      <td>66</td>\n",
              "      <td>0.690106</td>\n",
              "      <td>0.675479</td>\n",
              "      <td>28.1</td>\n",
              "      <td>0.038002</td>\n",
              "      <td>21</td>\n",
              "    </tr>\n",
              "    <tr>\n",
              "      <th>4</th>\n",
              "      <td>0</td>\n",
              "      <td>137</td>\n",
              "      <td>40</td>\n",
              "      <td>0.778151</td>\n",
              "      <td>0.760921</td>\n",
              "      <td>43.1</td>\n",
              "      <td>0.943638</td>\n",
              "      <td>33</td>\n",
              "    </tr>\n",
              "  </tbody>\n",
              "</table>\n",
              "</div>"
            ],
            "text/plain": [
              "   Pregnancies  Glucose  BloodPressure  SkinThickness   Insulin   BMI  \\\n",
              "0            6      148             72       0.778151  0.000000  33.6   \n",
              "1            1       85             66       0.738561  0.000000  26.6   \n",
              "2            8      183             64       0.000000  0.000000  23.3   \n",
              "3            1       89             66       0.690106  0.675479  28.1   \n",
              "4            0      137             40       0.778151  0.760921  43.1   \n",
              "\n",
              "   DiabetesPedigreeFunction  Age  \n",
              "0                  0.234415   50  \n",
              "1                  0.116567   31  \n",
              "2                  0.253629   32  \n",
              "3                  0.038002   21  \n",
              "4                  0.943638   33  "
            ]
          },
          "metadata": {},
          "output_type": "display_data"
        }
      ],
      "source": [
        "from sklearn.preprocessing import MinMaxScaler\n",
        "\n",
        "# Initialize a scaler, then apply it to the features\n",
        "scaler = MinMaxScaler() # default=(0, 1)\n",
        "numerical = ['Insulin','SkinThickness', 'DiabetesPedigreeFunction']\n",
        "\n",
        "features_log_minmax_transform = pd.DataFrame(data = features_log_transformed)\n",
        "features_log_minmax_transform[numerical] = scaler.fit_transform(features_log_transformed[numerical])\n",
        "\n",
        "# Show an example of a record with scaling applied\n",
        "display(features_log_minmax_transform.head(n = 5))\n",
        "features_final = features_log_minmax_transform"
      ]
    },
    {
      "cell_type": "code",
      "execution_count": 31,
      "id": "d791f12e",
      "metadata": {},
      "outputs": [
        {
          "data": {
            "text/plain": [
              "array([[ 0.        ,  1.        ,  0.        , ...,  0.38666657,\n",
              "        -1.39853722, -0.65122993],\n",
              "       [ 0.        ,  1.        ,  0.        , ..., -0.14228155,\n",
              "         0.1698353 , -0.53321103],\n",
              "       [ 0.        ,  1.        ,  0.        , ...,  1.69498375,\n",
              "         0.91907852, -0.6748337 ],\n",
              "       ...,\n",
              "       [ 0.        ,  1.        ,  0.        , ..., -0.19871259,\n",
              "         1.36027953,  1.63833662],\n",
              "       [ 0.        ,  1.        ,  0.        , ..., -0.16387483,\n",
              "         0.22150859,  2.18122353],\n",
              "       [ 0.        ,  1.        ,  0.        , ..., -0.10805575,\n",
              "        -0.06776315,  0.45814768]])"
            ]
          },
          "execution_count": 31,
          "metadata": {},
          "output_type": "execute_result"
        }
      ],
      "source": [
        "X"
      ]
    },
    {
      "cell_type": "markdown",
      "id": "8b08df30",
      "metadata": {
        "id": "8b08df30"
      },
      "source": [
        "# Classification"
      ]
    },
    {
      "cell_type": "code",
      "execution_count": 32,
      "id": "6688f6fb",
      "metadata": {
        "id": "6688f6fb"
      },
      "outputs": [],
      "source": [
        "from imblearn.combine import SMOTETomek, SMOTEENN\n",
        "\n",
        "# Resampling the minority class. The strategy can be changed as required.\n",
        "smt = SMOTEENN(random_state=42,sampling_strategy='minority' )\n",
        "# Fit the model to generate the data.\n",
        "X_res, y_res = smt.fit_resample(X, y)"
      ]
    },
    {
      "cell_type": "markdown",
      "id": "8a2c0485",
      "metadata": {
        "id": "8a2c0485"
      },
      "source": [
        "## Train Test Split\n",
        "- The train-test split procedure is used to estimate the performance of machine learning algorithms when they are used to make predictions on data not used to train the model.\n",
        "\n",
        "- It is a fast and easy procedure to perform, the results of which allow you to compare the performance of machine learning algorithms."
      ]
    },
    {
      "cell_type": "code",
      "execution_count": 30,
      "id": "e0f5858e",
      "metadata": {
        "id": "e0f5858e",
        "outputId": "d91dcb53-e0ae-4571-ef70-745f4c2ed1a2"
      },
      "outputs": [
        {
          "name": "stdout",
          "output_type": "stream",
          "text": [
            "Training set has 614 samples.\n",
            "Testing set has 154 samples.\n"
          ]
        }
      ],
      "source": [
        "from sklearn.model_selection import train_test_split\n",
        "\n",
        "# Split the 'features' and 'income' data into training and testing sets\n",
        "X_train, X_test, y_train, y_test = train_test_split(features_final, \n",
        "                                                    outcome_r, \n",
        "                                                    test_size = 0.2, \n",
        "                                                    random_state = 42)\n",
        "\n",
        "# Show the results of the split\n",
        "print(\"Training set has {} samples.\".format(X_train.shape[0]))\n",
        "print(\"Testing set has {} samples.\".format(X_test.shape[0]))"
      ]
    },
    {
      "cell_type": "code",
      "execution_count": 31,
      "id": "4cdb60f1",
      "metadata": {
        "id": "4cdb60f1"
      },
      "outputs": [],
      "source": [
        "from sklearn.ensemble import RandomForestClassifier, AdaBoostClassifier, GradientBoostingClassifier\n",
        "from sklearn.linear_model import LogisticRegression\n",
        "from sklearn.neighbors import KNeighborsClassifier\n",
        "from sklearn.tree import DecisionTreeClassifier\n",
        "from sklearn.svm import SVC\n",
        "from sklearn.metrics import accuracy_score, classification_report,ConfusionMatrixDisplay, \\\n",
        "                            precision_score, recall_score, f1_score, roc_auc_score,roc_curve \n",
        "from xgboost import XGBClassifier\n",
        "from catboost import CatBoostClassifier"
      ]
    },
    {
      "cell_type": "code",
      "execution_count": 32,
      "id": "b4da40e7",
      "metadata": {
        "id": "b4da40e7"
      },
      "outputs": [],
      "source": [
        "def evaluate_clf(true, predicted):\n",
        "    acc = accuracy_score(true, predicted) # Calculate Accuracy\n",
        "    f1 = f1_score(true, predicted) # Calculate F1-score\n",
        "    precision = precision_score(true, predicted) # Calculate Precision\n",
        "    recall = recall_score(true, predicted)  # Calculate Recall\n",
        "    roc_auc = roc_auc_score(true, predicted) #Calculate Roc\n",
        "    return acc, f1 , precision, recall, roc_auc"
      ]
    },
    {
      "cell_type": "code",
      "execution_count": 33,
      "id": "91cebd1a",
      "metadata": {
        "id": "91cebd1a",
        "scrolled": false
      },
      "outputs": [],
      "source": [
        "models = {\n",
        "    \"Random Forest\": RandomForestClassifier(),\n",
        "    \"Decision Tree\": DecisionTreeClassifier(),\n",
        "    \"Gradient Boosting\": GradientBoostingClassifier(),\n",
        "    \"Logistic Regression\": LogisticRegression(),\n",
        "     \"K-Neighbors Classifier\": KNeighborsClassifier(),\n",
        "    \"XGBClassifier\": XGBClassifier(), \n",
        "     \"CatBoosting Classifier\": CatBoostClassifier(verbose=False),\n",
        "     \"Support Vector Classifier\": SVC(),\n",
        "    \"AdaBoost Classifier\": AdaBoostClassifier()\n",
        "\n",
        "}"
      ]
    },
    {
      "cell_type": "code",
      "execution_count": 34,
      "id": "9aa69756",
      "metadata": {
        "id": "9aa69756"
      },
      "outputs": [],
      "source": [
        "# Create a function which can evaluate models and return a report \n",
        "def evaluate_models(X, y, models):\n",
        "    '''\n",
        "    This function takes in X and y and models dictionary as input\n",
        "    It splits the data into Train Test split\n",
        "    Iterates through the given model dictionary and evaluates the metrics\n",
        "    Returns: Dataframe which contains report of all models metrics with cost\n",
        "    '''\n",
        "    # separate dataset into train and test\n",
        "    X_train, X_test, y_train, y_test = train_test_split(X,y,test_size=0.2,random_state=42)\n",
        "    \n",
        "    models_list = []\n",
        "    accuracy_list = []\n",
        "    auc= []\n",
        "    \n",
        "    for i in range(len(list(models))):\n",
        "        model = list(models.values())[i]\n",
        "        model.fit(X_train, y_train) # Train model\n",
        "\n",
        "        # Make predictions\n",
        "        y_train_pred = model.predict(X_train)\n",
        "        y_test_pred = model.predict(X_test)\n",
        "\n",
        "        # Training set performance\n",
        "        model_train_accuracy, model_train_f1,model_train_precision,\\\n",
        "        model_train_recall,model_train_rocauc_score=evaluate_clf(y_train ,y_train_pred)\n",
        "\n",
        "\n",
        "        # Test set performance\n",
        "        model_test_accuracy,model_test_f1,model_test_precision,\\\n",
        "        model_test_recall,model_test_rocauc_score=evaluate_clf(y_test, y_test_pred)\n",
        "\n",
        "        print(list(models.keys())[i])\n",
        "        models_list.append(list(models.keys())[i])\n",
        "\n",
        "        print('Model performance for Training set')\n",
        "        print(\"- Accuracy: {:.4f}\".format(model_train_accuracy))\n",
        "        print('- F1 score: {:.4f}'.format(model_train_f1)) \n",
        "        print('- Precision: {:.4f}'.format(model_train_precision))\n",
        "        print('- Recall: {:.4f}'.format(model_train_recall))\n",
        "        print('- Roc Auc Score: {:.4f}'.format(model_train_rocauc_score))\n",
        "\n",
        "        print('----------------------------------')\n",
        "\n",
        "        print('Model performance for Test set')\n",
        "        print('- Accuracy: {:.4f}'.format(model_test_accuracy))\n",
        "        accuracy_list.append(model_test_accuracy)\n",
        "        print('- F1 score: {:.4f}'.format(model_test_f1))\n",
        "        print('- Precision: {:.4f}'.format(model_test_precision))\n",
        "        print('- Recall: {:.4f}'.format(model_test_recall))\n",
        "        print('- Roc Auc Score: {:.4f}'.format(model_test_rocauc_score))\n",
        "        auc.append(model_test_rocauc_score)\n",
        "        print('='*35)\n",
        "        print('\\n')\n",
        "        \n",
        "    report=pd.DataFrame(list(zip(models_list, accuracy_list)), columns=['Model Name', 'Accuracy']).sort_values(by=['Accuracy'], ascending=False)\n",
        "        \n",
        "    return report"
      ]
    },
    {
      "cell_type": "markdown",
      "id": "0e010280",
      "metadata": {
        "id": "0e010280"
      },
      "source": [
        "## Model Training "
      ]
    },
    {
      "cell_type": "code",
      "execution_count": 36,
      "id": "b08c217d",
      "metadata": {
        "id": "b08c217d",
        "outputId": "f8290c30-975a-4e44-80bd-9e120036e956",
        "scrolled": false
      },
      "outputs": [
        {
          "name": "stdout",
          "output_type": "stream",
          "text": [
            "Random Forest\n",
            "Model performance for Training set\n",
            "- Accuracy: 1.0000\n",
            "- F1 score: 1.0000\n",
            "- Precision: 1.0000\n",
            "- Recall: 1.0000\n",
            "- Roc Auc Score: 1.0000\n",
            "----------------------------------\n",
            "Model performance for Test set\n",
            "- Accuracy: 0.7403\n",
            "- F1 score: 0.6364\n",
            "- Precision: 0.6364\n",
            "- Recall: 0.6364\n",
            "- Roc Auc Score: 0.7172\n",
            "===================================\n",
            "\n",
            "\n",
            "Decision Tree\n",
            "Model performance for Training set\n",
            "- Accuracy: 1.0000\n",
            "- F1 score: 1.0000\n",
            "- Precision: 1.0000\n",
            "- Recall: 1.0000\n",
            "- Roc Auc Score: 1.0000\n",
            "----------------------------------\n",
            "Model performance for Test set\n",
            "- Accuracy: 0.7662\n",
            "- F1 score: 0.6897\n",
            "- Precision: 0.6557\n",
            "- Recall: 0.7273\n",
            "- Roc Auc Score: 0.7576\n",
            "===================================\n",
            "\n",
            "\n",
            "Gradient Boosting\n",
            "Model performance for Training set\n",
            "- Accuracy: 0.9381\n",
            "- F1 score: 0.9059\n",
            "- Precision: 0.9581\n",
            "- Recall: 0.8592\n",
            "- Roc Auc Score: 0.9196\n",
            "----------------------------------\n",
            "Model performance for Test set\n",
            "- Accuracy: 0.7403\n",
            "- F1 score: 0.6491\n",
            "- Precision: 0.6271\n",
            "- Recall: 0.6727\n",
            "- Roc Auc Score: 0.7253\n",
            "===================================\n",
            "\n",
            "\n",
            "Logistic Regression\n",
            "Model performance for Training set\n",
            "- Accuracy: 0.7720\n",
            "- F1 score: 0.6354\n",
            "- Precision: 0.7135\n",
            "- Recall: 0.5728\n",
            "- Roc Auc Score: 0.7253\n",
            "----------------------------------\n",
            "Model performance for Test set\n",
            "- Accuracy: 0.7468\n",
            "- F1 score: 0.6486\n",
            "- Precision: 0.6429\n",
            "- Recall: 0.6545\n",
            "- Roc Auc Score: 0.7263\n",
            "===================================\n",
            "\n",
            "\n",
            "K-Neighbors Classifier\n",
            "Model performance for Training set\n",
            "- Accuracy: 0.8225\n",
            "- F1 score: 0.7322\n",
            "- Precision: 0.7680\n",
            "- Recall: 0.6995\n",
            "- Roc Auc Score: 0.7937\n",
            "----------------------------------\n",
            "Model performance for Test set\n",
            "- Accuracy: 0.7468\n",
            "- F1 score: 0.6355\n",
            "- Precision: 0.6538\n",
            "- Recall: 0.6182\n",
            "- Roc Auc Score: 0.7182\n",
            "===================================\n",
            "\n",
            "\n",
            "XGBClassifier\n",
            "Model performance for Training set\n",
            "- Accuracy: 1.0000\n",
            "- F1 score: 1.0000\n",
            "- Precision: 1.0000\n",
            "- Recall: 1.0000\n",
            "- Roc Auc Score: 1.0000\n",
            "----------------------------------\n",
            "Model performance for Test set\n",
            "- Accuracy: 0.7078\n",
            "- F1 score: 0.6154\n",
            "- Precision: 0.5806\n",
            "- Recall: 0.6545\n",
            "- Roc Auc Score: 0.6960\n",
            "===================================\n",
            "\n",
            "\n",
            "CatBoosting Classifier\n",
            "Model performance for Training set\n",
            "- Accuracy: 0.9560\n",
            "- F1 score: 0.9337\n",
            "- Precision: 0.9794\n",
            "- Recall: 0.8920\n",
            "- Roc Auc Score: 0.9410\n",
            "----------------------------------\n",
            "Model performance for Test set\n",
            "- Accuracy: 0.7532\n",
            "- F1 score: 0.6667\n",
            "- Precision: 0.6441\n",
            "- Recall: 0.6909\n",
            "- Roc Auc Score: 0.7394\n",
            "===================================\n",
            "\n",
            "\n",
            "Support Vector Classifier\n",
            "Model performance for Training set\n",
            "- Accuracy: 0.7671\n",
            "- F1 score: 0.5994\n",
            "- Precision: 0.7431\n",
            "- Recall: 0.5023\n",
            "- Roc Auc Score: 0.7050\n",
            "----------------------------------\n",
            "Model performance for Test set\n",
            "- Accuracy: 0.7662\n",
            "- F1 score: 0.6400\n",
            "- Precision: 0.7111\n",
            "- Recall: 0.5818\n",
            "- Roc Auc Score: 0.7253\n",
            "===================================\n",
            "\n",
            "\n",
            "AdaBoost Classifier\n",
            "Model performance for Training set\n",
            "- Accuracy: 0.8355\n",
            "- F1 score: 0.7543\n",
            "- Precision: 0.7828\n",
            "- Recall: 0.7277\n",
            "- Roc Auc Score: 0.8102\n",
            "----------------------------------\n",
            "Model performance for Test set\n",
            "- Accuracy: 0.7338\n",
            "- F1 score: 0.6306\n",
            "- Precision: 0.6250\n",
            "- Recall: 0.6364\n",
            "- Roc Auc Score: 0.7121\n",
            "===================================\n",
            "\n",
            "\n"
          ]
        }
      ],
      "source": [
        "base_model_report =evaluate_models(X=features_final, y=outcome_r, models=models)"
      ]
    },
    {
      "cell_type": "markdown",
      "id": "8ac46818",
      "metadata": {
        "id": "8ac46818"
      },
      "source": [
        "**Results of All Models**"
      ]
    },
    {
      "cell_type": "code",
      "execution_count": 37,
      "id": "fd686f5e",
      "metadata": {
        "id": "fd686f5e",
        "outputId": "bf5b1cc5-5eab-4a63-c765-0a23cdc94ab0"
      },
      "outputs": [
        {
          "data": {
            "text/html": [
              "<div>\n",
              "<style scoped>\n",
              "    .dataframe tbody tr th:only-of-type {\n",
              "        vertical-align: middle;\n",
              "    }\n",
              "\n",
              "    .dataframe tbody tr th {\n",
              "        vertical-align: top;\n",
              "    }\n",
              "\n",
              "    .dataframe thead th {\n",
              "        text-align: right;\n",
              "    }\n",
              "</style>\n",
              "<table border=\"1\" class=\"dataframe\">\n",
              "  <thead>\n",
              "    <tr style=\"text-align: right;\">\n",
              "      <th></th>\n",
              "      <th>Model Name</th>\n",
              "      <th>Accuracy</th>\n",
              "    </tr>\n",
              "  </thead>\n",
              "  <tbody>\n",
              "    <tr>\n",
              "      <th>1</th>\n",
              "      <td>Decision Tree</td>\n",
              "      <td>0.766234</td>\n",
              "    </tr>\n",
              "    <tr>\n",
              "      <th>7</th>\n",
              "      <td>Support Vector Classifier</td>\n",
              "      <td>0.766234</td>\n",
              "    </tr>\n",
              "    <tr>\n",
              "      <th>6</th>\n",
              "      <td>CatBoosting Classifier</td>\n",
              "      <td>0.753247</td>\n",
              "    </tr>\n",
              "    <tr>\n",
              "      <th>3</th>\n",
              "      <td>Logistic Regression</td>\n",
              "      <td>0.746753</td>\n",
              "    </tr>\n",
              "    <tr>\n",
              "      <th>4</th>\n",
              "      <td>K-Neighbors Classifier</td>\n",
              "      <td>0.746753</td>\n",
              "    </tr>\n",
              "    <tr>\n",
              "      <th>0</th>\n",
              "      <td>Random Forest</td>\n",
              "      <td>0.740260</td>\n",
              "    </tr>\n",
              "    <tr>\n",
              "      <th>2</th>\n",
              "      <td>Gradient Boosting</td>\n",
              "      <td>0.740260</td>\n",
              "    </tr>\n",
              "    <tr>\n",
              "      <th>8</th>\n",
              "      <td>AdaBoost Classifier</td>\n",
              "      <td>0.733766</td>\n",
              "    </tr>\n",
              "    <tr>\n",
              "      <th>5</th>\n",
              "      <td>XGBClassifier</td>\n",
              "      <td>0.707792</td>\n",
              "    </tr>\n",
              "  </tbody>\n",
              "</table>\n",
              "</div>"
            ],
            "text/plain": [
              "                  Model Name  Accuracy\n",
              "1              Decision Tree  0.766234\n",
              "7  Support Vector Classifier  0.766234\n",
              "6     CatBoosting Classifier  0.753247\n",
              "3        Logistic Regression  0.746753\n",
              "4     K-Neighbors Classifier  0.746753\n",
              "0              Random Forest  0.740260\n",
              "2          Gradient Boosting  0.740260\n",
              "8        AdaBoost Classifier  0.733766\n",
              "5              XGBClassifier  0.707792"
            ]
          },
          "execution_count": 37,
          "metadata": {},
          "output_type": "execute_result"
        }
      ],
      "source": [
        "base_model_report"
      ]
    },
    {
      "cell_type": "markdown",
      "id": "f3534db9",
      "metadata": {
        "id": "f3534db9"
      },
      "source": [
        "**Here we can use decision Tree for Hyper Parameter Tuning**"
      ]
    },
    {
      "cell_type": "markdown",
      "id": "0b83fb1c",
      "metadata": {
        "id": "0b83fb1c"
      },
      "source": [
        "**Define the parameter distribution for Random forest**"
      ]
    },
    {
      "cell_type": "code",
      "execution_count": 43,
      "id": "893c4b00",
      "metadata": {
        "id": "893c4b00"
      },
      "outputs": [],
      "source": [
        "#Initialize few parameter for Hyperparamter tuning\n",
        "dt_params = {\n",
        "    'criterion': ['gini', 'entropy'],\n",
        "    'splitter': ['best', 'random'],\n",
        "    'max_depth': range(3, 10, 2),\n",
        "    'min_samples_split': [2, 5, 10],\n",
        "    'min_samples_leaf': [1, 2, 4],\n",
        "    'max_features': [None, 'sqrt', 'log2']\n",
        "}\n",
        "\n",
        "\n",
        "svc_params = {\n",
        "    'C': [0.1, 1, 10, 100],\n",
        "    'kernel': ['linear', 'poly', 'rbf', 'sigmoid'],\n",
        "    'degree': [2, 3, 4, 5],\n",
        "    'gamma': ['scale', 'auto']\n",
        "}\n",
        "\n",
        "\n",
        "catboost_params = {\n",
        "    'depth': [4, 6, 8, 10],\n",
        "    'learning_rate': [0.03, 0.1, 0.3],\n",
        "    'iterations': [100, 300, 500],\n",
        "    'l2_leaf_reg': [1, 3, 5, 7, 9]\n",
        "}\n"
      ]
    },
    {
      "cell_type": "code",
      "execution_count": 44,
      "id": "9a57c5fd",
      "metadata": {
        "id": "9a57c5fd"
      },
      "outputs": [],
      "source": [
        "# Models list for Hyperparameter tuning\n",
        "randomcv_models = [\n",
        "    ('catBoost', CatBoostClassifier(), catboost_params),\n",
        "    (\"SVC\", SVC(), svc_params),\n",
        "    (\"DecisionTree\", DecisionTreeClassifier(), dt_params)\n",
        "]"
      ]
    },
    {
      "cell_type": "markdown",
      "id": "723dea97",
      "metadata": {
        "id": "723dea97"
      },
      "source": [
        "**Create a function for model training and report which can be used in hyperparameter tuning loop**"
      ]
    },
    {
      "cell_type": "code",
      "execution_count": 51,
      "id": "0dc8830b",
      "metadata": {
        "id": "0dc8830b",
        "outputId": "7d73c308-88a2-41c6-a678-62f49819e41b"
      },
      "outputs": [
        {
          "name": "stdout",
          "output_type": "stream",
          "text": [
            "Fitting 2 folds for each of 10 candidates, totalling 20 fits\n",
            "0:\tlearn: 0.6240366\ttotal: 1.18ms\tremaining: 116ms\n",
            "1:\tlearn: 0.5853440\ttotal: 2.34ms\tremaining: 114ms\n",
            "2:\tlearn: 0.5515373\ttotal: 3.37ms\tremaining: 109ms\n",
            "3:\tlearn: 0.5290276\ttotal: 4.29ms\tremaining: 103ms\n",
            "4:\tlearn: 0.5083680\ttotal: 5.48ms\tremaining: 104ms\n",
            "5:\tlearn: 0.4980020\ttotal: 6.63ms\tremaining: 104ms\n",
            "6:\tlearn: 0.4852858\ttotal: 7.68ms\tremaining: 102ms\n",
            "7:\tlearn: 0.4773513\ttotal: 8.63ms\tremaining: 99.3ms\n",
            "8:\tlearn: 0.4666506\ttotal: 9.47ms\tremaining: 95.7ms\n",
            "9:\tlearn: 0.4602164\ttotal: 10.4ms\tremaining: 93.4ms\n",
            "10:\tlearn: 0.4556845\ttotal: 11.3ms\tremaining: 91.7ms\n",
            "11:\tlearn: 0.4502872\ttotal: 12.3ms\tremaining: 89.8ms\n",
            "12:\tlearn: 0.4462252\ttotal: 13.1ms\tremaining: 87.5ms\n",
            "13:\tlearn: 0.4405249\ttotal: 14ms\tremaining: 86.1ms\n",
            "14:\tlearn: 0.4360238\ttotal: 14.9ms\tremaining: 84.7ms\n",
            "15:\tlearn: 0.4320629\ttotal: 15.8ms\tremaining: 83.2ms\n",
            "16:\tlearn: 0.4280928\ttotal: 16.7ms\tremaining: 81.8ms\n",
            "17:\tlearn: 0.4253228\ttotal: 17.7ms\tremaining: 80.6ms\n",
            "18:\tlearn: 0.4232015\ttotal: 18.6ms\tremaining: 79.3ms\n",
            "19:\tlearn: 0.4211760\ttotal: 19.8ms\tremaining: 79.3ms\n",
            "20:\tlearn: 0.4184218\ttotal: 20.7ms\tremaining: 78ms\n",
            "21:\tlearn: 0.4176928\ttotal: 21.6ms\tremaining: 76.6ms\n",
            "22:\tlearn: 0.4157306\ttotal: 22.5ms\tremaining: 75.5ms\n",
            "23:\tlearn: 0.4133255\ttotal: 23.4ms\tremaining: 74.2ms\n",
            "24:\tlearn: 0.4109782\ttotal: 24.3ms\tremaining: 72.9ms\n",
            "25:\tlearn: 0.4081941\ttotal: 25.1ms\tremaining: 71.6ms\n",
            "26:\tlearn: 0.4079870\ttotal: 26ms\tremaining: 70.3ms\n",
            "27:\tlearn: 0.4038341\ttotal: 26.9ms\tremaining: 69.1ms\n",
            "28:\tlearn: 0.4020376\ttotal: 27.8ms\tremaining: 68.1ms\n",
            "29:\tlearn: 0.3993016\ttotal: 28.7ms\tremaining: 67ms\n",
            "30:\tlearn: 0.3979603\ttotal: 29.5ms\tremaining: 65.7ms\n",
            "31:\tlearn: 0.3975975\ttotal: 30.3ms\tremaining: 64.5ms\n",
            "32:\tlearn: 0.3962109\ttotal: 31.2ms\tremaining: 63.4ms\n",
            "33:\tlearn: 0.3944098\ttotal: 32.2ms\tremaining: 62.5ms\n",
            "34:\tlearn: 0.3924434\ttotal: 33.1ms\tremaining: 61.4ms\n",
            "35:\tlearn: 0.3921295\ttotal: 34.1ms\tremaining: 60.5ms\n",
            "36:\tlearn: 0.3918108\ttotal: 35.1ms\tremaining: 59.8ms\n",
            "37:\tlearn: 0.3909539\ttotal: 36ms\tremaining: 58.7ms\n",
            "38:\tlearn: 0.3906675\ttotal: 36.8ms\tremaining: 57.6ms\n",
            "39:\tlearn: 0.3892346\ttotal: 37.8ms\tremaining: 56.7ms\n",
            "40:\tlearn: 0.3889529\ttotal: 38.7ms\tremaining: 55.6ms\n",
            "41:\tlearn: 0.3865389\ttotal: 39.6ms\tremaining: 54.7ms\n",
            "42:\tlearn: 0.3862044\ttotal: 40.4ms\tremaining: 53.6ms\n",
            "43:\tlearn: 0.3859612\ttotal: 41.3ms\tremaining: 52.6ms\n",
            "44:\tlearn: 0.3856543\ttotal: 42.3ms\tremaining: 51.7ms\n",
            "45:\tlearn: 0.3834191\ttotal: 43.1ms\tremaining: 50.6ms\n",
            "46:\tlearn: 0.3831416\ttotal: 44.1ms\tremaining: 49.7ms\n",
            "47:\tlearn: 0.3828278\ttotal: 44.9ms\tremaining: 48.6ms\n",
            "48:\tlearn: 0.3799930\ttotal: 45.8ms\tremaining: 47.7ms\n",
            "49:\tlearn: 0.3780177\ttotal: 46.8ms\tremaining: 46.8ms\n",
            "50:\tlearn: 0.3749079\ttotal: 47.6ms\tremaining: 45.8ms\n",
            "51:\tlearn: 0.3727237\ttotal: 48.8ms\tremaining: 45ms\n",
            "52:\tlearn: 0.3705171\ttotal: 50ms\tremaining: 44.3ms\n",
            "53:\tlearn: 0.3702075\ttotal: 50.9ms\tremaining: 43.3ms\n",
            "54:\tlearn: 0.3669594\ttotal: 51.8ms\tremaining: 42.4ms\n",
            "55:\tlearn: 0.3666866\ttotal: 52.6ms\tremaining: 41.3ms\n",
            "56:\tlearn: 0.3656805\ttotal: 53.4ms\tremaining: 40.3ms\n",
            "57:\tlearn: 0.3632579\ttotal: 54.3ms\tremaining: 39.3ms\n",
            "58:\tlearn: 0.3618375\ttotal: 55.1ms\tremaining: 38.3ms\n",
            "59:\tlearn: 0.3600670\ttotal: 56.1ms\tremaining: 37.4ms\n",
            "60:\tlearn: 0.3583312\ttotal: 57ms\tremaining: 36.5ms\n",
            "61:\tlearn: 0.3567170\ttotal: 57.8ms\tremaining: 35.5ms\n",
            "62:\tlearn: 0.3542173\ttotal: 58.7ms\tremaining: 34.5ms\n",
            "63:\tlearn: 0.3540270\ttotal: 59.7ms\tremaining: 33.6ms\n",
            "64:\tlearn: 0.3536058\ttotal: 60.5ms\tremaining: 32.6ms\n",
            "65:\tlearn: 0.3501134\ttotal: 61.3ms\tremaining: 31.6ms\n",
            "66:\tlearn: 0.3493387\ttotal: 62.2ms\tremaining: 30.6ms\n",
            "67:\tlearn: 0.3458598\ttotal: 63.1ms\tremaining: 29.7ms\n",
            "68:\tlearn: 0.3442179\ttotal: 64.2ms\tremaining: 28.8ms\n",
            "69:\tlearn: 0.3440480\ttotal: 65.3ms\tremaining: 28ms\n",
            "70:\tlearn: 0.3438746\ttotal: 66.2ms\tremaining: 27ms\n",
            "71:\tlearn: 0.3429489\ttotal: 67.1ms\tremaining: 26.1ms\n",
            "72:\tlearn: 0.3428026\ttotal: 68ms\tremaining: 25.2ms\n",
            "73:\tlearn: 0.3419209\ttotal: 68.9ms\tremaining: 24.2ms\n",
            "74:\tlearn: 0.3404538\ttotal: 69.9ms\tremaining: 23.3ms\n",
            "75:\tlearn: 0.3395353\ttotal: 70.9ms\tremaining: 22.4ms\n",
            "76:\tlearn: 0.3376749\ttotal: 71.8ms\tremaining: 21.4ms\n",
            "77:\tlearn: 0.3364839\ttotal: 72.6ms\tremaining: 20.5ms\n",
            "78:\tlearn: 0.3334914\ttotal: 73.5ms\tremaining: 19.5ms\n",
            "79:\tlearn: 0.3333603\ttotal: 74.3ms\tremaining: 18.6ms\n",
            "80:\tlearn: 0.3331880\ttotal: 75.1ms\tremaining: 17.6ms\n",
            "81:\tlearn: 0.3327110\ttotal: 76ms\tremaining: 16.7ms\n",
            "82:\tlearn: 0.3315794\ttotal: 76.8ms\tremaining: 15.7ms\n",
            "83:\tlearn: 0.3282213\ttotal: 78.2ms\tremaining: 14.9ms\n",
            "84:\tlearn: 0.3272427\ttotal: 79ms\tremaining: 13.9ms\n",
            "85:\tlearn: 0.3270933\ttotal: 79.8ms\tremaining: 13ms\n",
            "86:\tlearn: 0.3259495\ttotal: 80.6ms\tremaining: 12ms\n",
            "87:\tlearn: 0.3258377\ttotal: 81.4ms\tremaining: 11.1ms\n",
            "88:\tlearn: 0.3257359\ttotal: 82.2ms\tremaining: 10.2ms\n",
            "89:\tlearn: 0.3255493\ttotal: 83ms\tremaining: 9.22ms\n",
            "90:\tlearn: 0.3226372\ttotal: 83.7ms\tremaining: 8.28ms\n",
            "91:\tlearn: 0.3224993\ttotal: 84.6ms\tremaining: 7.35ms\n",
            "92:\tlearn: 0.3218707\ttotal: 85.4ms\tremaining: 6.43ms\n",
            "93:\tlearn: 0.3208432\ttotal: 86.2ms\tremaining: 5.5ms\n",
            "94:\tlearn: 0.3206934\ttotal: 87.1ms\tremaining: 4.58ms\n",
            "95:\tlearn: 0.3202492\ttotal: 87.9ms\tremaining: 3.66ms\n",
            "96:\tlearn: 0.3184347\ttotal: 88.7ms\tremaining: 2.74ms\n",
            "97:\tlearn: 0.3176548\ttotal: 89.6ms\tremaining: 1.83ms\n",
            "98:\tlearn: 0.3153793\ttotal: 90.5ms\tremaining: 913us\n",
            "99:\tlearn: 0.3149585\ttotal: 91.3ms\tremaining: 0us\n",
            "Fitting 2 folds for each of 10 candidates, totalling 20 fits\n",
            "Fitting 2 folds for each of 10 candidates, totalling 20 fits\n",
            "---------------- Best Params for catBoost -------------------\n",
            "{'learning_rate': 0.3, 'l2_leaf_reg': 5, 'iterations': 100, 'depth': 4}\n",
            "---------------- Best Params for SVC -------------------\n",
            "{'kernel': 'poly', 'gamma': 'scale', 'degree': 5, 'C': 1}\n",
            "---------------- Best Params for DecisionTree -------------------\n",
            "{'splitter': 'best', 'min_samples_split': 2, 'min_samples_leaf': 2, 'max_features': 'log2', 'max_depth': 5, 'criterion': 'entropy'}\n"
          ]
        }
      ],
      "source": [
        "from sklearn.model_selection import RandomizedSearchCV\n",
        "\n",
        "model_param = {}\n",
        "for name, model, params in randomcv_models:\n",
        "    random = RandomizedSearchCV(estimator=model,\n",
        "                                   param_distributions=params,\n",
        "                                   n_iter=10,\n",
        "                                   cv=2,\n",
        "                                   verbose=2, \n",
        "                                   n_jobs=-1)\n",
        "    random.fit(features_final, outcome_r)\n",
        "    model_param[name] = random.best_params_\n",
        "\n",
        "for model_name in model_param:\n",
        "    print(f\"---------------- Best Params for {model_name} -------------------\")\n",
        "    print(model_param[model_name])"
      ]
    },
    {
      "cell_type": "code",
      "execution_count": 52,
      "id": "83b5de27",
      "metadata": {},
      "outputs": [
        {
          "data": {
            "text/plain": [
              "{'catBoost': {'learning_rate': 0.3,\n",
              "  'l2_leaf_reg': 5,\n",
              "  'iterations': 100,\n",
              "  'depth': 4},\n",
              " 'SVC': {'kernel': 'poly', 'gamma': 'scale', 'degree': 5, 'C': 1},\n",
              " 'DecisionTree': {'splitter': 'best',\n",
              "  'min_samples_split': 2,\n",
              "  'min_samples_leaf': 2,\n",
              "  'max_features': 'log2',\n",
              "  'max_depth': 5,\n",
              "  'criterion': 'entropy'}}"
            ]
          },
          "execution_count": 52,
          "metadata": {},
          "output_type": "execute_result"
        }
      ],
      "source": [
        "model_param"
      ]
    },
    {
      "cell_type": "markdown",
      "id": "616ebc0a",
      "metadata": {
        "id": "616ebc0a"
      },
      "source": [
        "## Retraining the Model with best Parameters"
      ]
    },
    {
      "cell_type": "code",
      "execution_count": 56,
      "id": "5738ae2c",
      "metadata": {
        "id": "5738ae2c",
        "outputId": "25600fb4-c963-4bf7-ba2c-d02cf4d5962e"
      },
      "outputs": [
        {
          "name": "stdout",
          "output_type": "stream",
          "text": [
            "decision tree\n",
            "Model performance for Training set\n",
            "- Accuracy: 0.7915\n",
            "- F1 score: 0.7091\n",
            "- Precision: 0.6872\n",
            "- Recall: 0.7324\n",
            "- Roc Auc Score: 0.7777\n",
            "----------------------------------\n",
            "Model performance for Test set\n",
            "- Accuracy: 0.7078\n",
            "- F1 score: 0.6154\n",
            "- Precision: 0.5806\n",
            "- Recall: 0.6545\n",
            "- Roc Auc Score: 0.6960\n",
            "===================================\n",
            "\n",
            "\n",
            "SVC\n",
            "Model performance for Training set\n",
            "- Accuracy: 0.7736\n",
            "- F1 score: 0.6017\n",
            "- Precision: 0.7721\n",
            "- Recall: 0.4930\n",
            "- Roc Auc Score: 0.7078\n",
            "----------------------------------\n",
            "Model performance for Test set\n",
            "- Accuracy: 0.7987\n",
            "- F1 score: 0.6737\n",
            "- Precision: 0.8000\n",
            "- Recall: 0.5818\n",
            "- Roc Auc Score: 0.7505\n",
            "===================================\n",
            "\n",
            "\n",
            "0:\tlearn: 0.6229874\ttotal: 1.24ms\tremaining: 123ms\n",
            "1:\tlearn: 0.5810333\ttotal: 2.01ms\tremaining: 98.5ms\n",
            "2:\tlearn: 0.5504531\ttotal: 2.57ms\tremaining: 83.1ms\n",
            "3:\tlearn: 0.5297111\ttotal: 3.19ms\tremaining: 76.6ms\n",
            "4:\tlearn: 0.5099496\ttotal: 3.8ms\tremaining: 72.3ms\n",
            "5:\tlearn: 0.4946105\ttotal: 4.42ms\tremaining: 69.3ms\n",
            "6:\tlearn: 0.4826550\ttotal: 5.54ms\tremaining: 73.6ms\n",
            "7:\tlearn: 0.4713822\ttotal: 6.22ms\tremaining: 71.5ms\n",
            "8:\tlearn: 0.4618358\ttotal: 6.85ms\tremaining: 69.3ms\n",
            "9:\tlearn: 0.4531023\ttotal: 7.49ms\tremaining: 67.4ms\n",
            "10:\tlearn: 0.4481889\ttotal: 8.09ms\tremaining: 65.4ms\n",
            "11:\tlearn: 0.4427960\ttotal: 8.72ms\tremaining: 63.9ms\n",
            "12:\tlearn: 0.4380113\ttotal: 9.35ms\tremaining: 62.6ms\n",
            "13:\tlearn: 0.4348546\ttotal: 9.89ms\tremaining: 60.8ms\n",
            "14:\tlearn: 0.4324059\ttotal: 10.5ms\tremaining: 59.3ms\n",
            "15:\tlearn: 0.4276765\ttotal: 11.1ms\tremaining: 58.1ms\n",
            "16:\tlearn: 0.4225566\ttotal: 11.7ms\tremaining: 57.1ms\n",
            "17:\tlearn: 0.4184941\ttotal: 12.5ms\tremaining: 56.9ms\n",
            "18:\tlearn: 0.4169764\ttotal: 13.2ms\tremaining: 56.2ms\n",
            "19:\tlearn: 0.4147988\ttotal: 13.7ms\tremaining: 55ms\n",
            "20:\tlearn: 0.4115632\ttotal: 14.4ms\tremaining: 54ms\n",
            "21:\tlearn: 0.4090640\ttotal: 15ms\tremaining: 53.1ms\n",
            "22:\tlearn: 0.4057066\ttotal: 15.6ms\tremaining: 52.1ms\n",
            "23:\tlearn: 0.4037458\ttotal: 16.1ms\tremaining: 51.1ms\n",
            "24:\tlearn: 0.4009645\ttotal: 16.7ms\tremaining: 50.2ms\n",
            "25:\tlearn: 0.3956232\ttotal: 17.3ms\tremaining: 49.3ms\n",
            "26:\tlearn: 0.3944816\ttotal: 17.9ms\tremaining: 48.5ms\n",
            "27:\tlearn: 0.3942117\ttotal: 18.6ms\tremaining: 47.7ms\n",
            "28:\tlearn: 0.3910381\ttotal: 19.8ms\tremaining: 48.5ms\n",
            "29:\tlearn: 0.3886337\ttotal: 21.2ms\tremaining: 49.4ms\n",
            "30:\tlearn: 0.3880075\ttotal: 21.9ms\tremaining: 48.8ms\n",
            "31:\tlearn: 0.3848001\ttotal: 22.7ms\tremaining: 48.3ms\n",
            "32:\tlearn: 0.3830678\ttotal: 23.5ms\tremaining: 47.6ms\n",
            "33:\tlearn: 0.3812671\ttotal: 24ms\tremaining: 46.7ms\n",
            "34:\tlearn: 0.3803288\ttotal: 24.6ms\tremaining: 45.7ms\n",
            "35:\tlearn: 0.3792361\ttotal: 25.2ms\tremaining: 44.8ms\n",
            "36:\tlearn: 0.3789936\ttotal: 25.8ms\tremaining: 43.9ms\n",
            "37:\tlearn: 0.3734548\ttotal: 26.4ms\tremaining: 43ms\n",
            "38:\tlearn: 0.3720949\ttotal: 27ms\tremaining: 42.2ms\n",
            "39:\tlearn: 0.3705089\ttotal: 27.6ms\tremaining: 41.4ms\n",
            "40:\tlearn: 0.3694294\ttotal: 28.3ms\tremaining: 40.7ms\n",
            "41:\tlearn: 0.3668262\ttotal: 28.9ms\tremaining: 39.9ms\n",
            "42:\tlearn: 0.3624013\ttotal: 29.5ms\tremaining: 39.1ms\n",
            "43:\tlearn: 0.3620647\ttotal: 30.1ms\tremaining: 38.4ms\n",
            "44:\tlearn: 0.3594490\ttotal: 31.2ms\tremaining: 38.1ms\n",
            "45:\tlearn: 0.3568381\ttotal: 31.8ms\tremaining: 37.3ms\n",
            "46:\tlearn: 0.3565626\ttotal: 32.4ms\tremaining: 36.5ms\n",
            "47:\tlearn: 0.3553437\ttotal: 47.3ms\tremaining: 51.3ms\n",
            "48:\tlearn: 0.3547133\ttotal: 47.9ms\tremaining: 49.9ms\n",
            "49:\tlearn: 0.3542937\ttotal: 48.6ms\tremaining: 48.6ms\n",
            "50:\tlearn: 0.3529187\ttotal: 49.2ms\tremaining: 47.3ms\n",
            "51:\tlearn: 0.3500429\ttotal: 50.2ms\tremaining: 46.3ms\n",
            "52:\tlearn: 0.3492001\ttotal: 51ms\tremaining: 45.2ms\n",
            "53:\tlearn: 0.3459648\ttotal: 52ms\tremaining: 44.3ms\n",
            "54:\tlearn: 0.3457424\ttotal: 52.6ms\tremaining: 43.1ms\n",
            "55:\tlearn: 0.3455754\ttotal: 53.2ms\tremaining: 41.8ms\n",
            "56:\tlearn: 0.3449018\ttotal: 53.8ms\tremaining: 40.6ms\n",
            "57:\tlearn: 0.3411877\ttotal: 54.4ms\tremaining: 39.4ms\n",
            "58:\tlearn: 0.3376979\ttotal: 54.9ms\tremaining: 38.2ms\n",
            "59:\tlearn: 0.3374837\ttotal: 55.4ms\tremaining: 37ms\n",
            "60:\tlearn: 0.3373330\ttotal: 56ms\tremaining: 35.8ms\n",
            "61:\tlearn: 0.3371465\ttotal: 56.5ms\tremaining: 34.6ms\n",
            "62:\tlearn: 0.3370226\ttotal: 57ms\tremaining: 33.5ms\n",
            "63:\tlearn: 0.3354161\ttotal: 57.5ms\tremaining: 32.4ms\n",
            "64:\tlearn: 0.3352877\ttotal: 58.1ms\tremaining: 31.3ms\n",
            "65:\tlearn: 0.3343070\ttotal: 58.6ms\tremaining: 30.2ms\n",
            "66:\tlearn: 0.3314732\ttotal: 59.2ms\tremaining: 29.2ms\n",
            "67:\tlearn: 0.3308928\ttotal: 59.8ms\tremaining: 28.1ms\n",
            "68:\tlearn: 0.3293154\ttotal: 60.3ms\tremaining: 27.1ms\n",
            "69:\tlearn: 0.3291877\ttotal: 60.9ms\tremaining: 26.1ms\n",
            "70:\tlearn: 0.3290737\ttotal: 61.4ms\tremaining: 25.1ms\n",
            "71:\tlearn: 0.3258766\ttotal: 62ms\tremaining: 24.1ms\n",
            "72:\tlearn: 0.3237233\ttotal: 62.5ms\tremaining: 23.1ms\n",
            "73:\tlearn: 0.3229533\ttotal: 63ms\tremaining: 22.1ms\n",
            "74:\tlearn: 0.3187743\ttotal: 63.9ms\tremaining: 21.3ms\n",
            "75:\tlearn: 0.3181836\ttotal: 64.6ms\tremaining: 20.4ms\n",
            "76:\tlearn: 0.3150999\ttotal: 65.3ms\tremaining: 19.5ms\n",
            "77:\tlearn: 0.3149276\ttotal: 65.9ms\tremaining: 18.6ms\n",
            "78:\tlearn: 0.3143554\ttotal: 66.5ms\tremaining: 17.7ms\n",
            "79:\tlearn: 0.3119724\ttotal: 67.1ms\tremaining: 16.8ms\n",
            "80:\tlearn: 0.3096409\ttotal: 67.7ms\tremaining: 15.9ms\n",
            "81:\tlearn: 0.3082987\ttotal: 68.3ms\tremaining: 15ms\n",
            "82:\tlearn: 0.3064123\ttotal: 68.8ms\tremaining: 14.1ms\n",
            "83:\tlearn: 0.3052243\ttotal: 69.4ms\tremaining: 13.2ms\n",
            "84:\tlearn: 0.3050759\ttotal: 69.9ms\tremaining: 12.3ms\n",
            "85:\tlearn: 0.3038065\ttotal: 70.5ms\tremaining: 11.5ms\n",
            "86:\tlearn: 0.3021173\ttotal: 71.1ms\tremaining: 10.6ms\n",
            "87:\tlearn: 0.3007582\ttotal: 71.6ms\tremaining: 9.77ms\n",
            "88:\tlearn: 0.2978522\ttotal: 72.2ms\tremaining: 8.93ms\n",
            "89:\tlearn: 0.2972642\ttotal: 72.9ms\tremaining: 8.1ms\n",
            "90:\tlearn: 0.2944424\ttotal: 73.5ms\tremaining: 7.27ms\n",
            "91:\tlearn: 0.2943679\ttotal: 74.1ms\tremaining: 6.44ms\n",
            "92:\tlearn: 0.2931856\ttotal: 74.6ms\tremaining: 5.62ms\n",
            "93:\tlearn: 0.2931164\ttotal: 75.1ms\tremaining: 4.79ms\n",
            "94:\tlearn: 0.2928475\ttotal: 75.7ms\tremaining: 3.98ms\n",
            "95:\tlearn: 0.2926093\ttotal: 76.2ms\tremaining: 3.17ms\n",
            "96:\tlearn: 0.2924782\ttotal: 76.7ms\tremaining: 2.37ms\n",
            "97:\tlearn: 0.2913711\ttotal: 77.3ms\tremaining: 1.58ms\n",
            "98:\tlearn: 0.2898207\ttotal: 78ms\tremaining: 788us\n",
            "99:\tlearn: 0.2885090\ttotal: 79ms\tremaining: 0us\n",
            "catboost\n",
            "Model performance for Training set\n",
            "- Accuracy: 0.8990\n",
            "- F1 score: 0.8480\n",
            "- Precision: 0.8872\n",
            "- Recall: 0.8122\n",
            "- Roc Auc Score: 0.8787\n",
            "----------------------------------\n",
            "Model performance for Test set\n",
            "- Accuracy: 0.7338\n",
            "- F1 score: 0.6435\n",
            "- Precision: 0.6167\n",
            "- Recall: 0.6727\n",
            "- Roc Auc Score: 0.7202\n",
            "===================================\n",
            "\n",
            "\n"
          ]
        }
      ],
      "source": [
        "from sklearn.metrics import roc_auc_score,roc_curve\n",
        "best_models = {\n",
        "    \"decision tree\": DecisionTreeClassifier(**model_param['DecisionTree']),\n",
        "    \"SVC\": SVC(**model_param['SVC']),\n",
        "    \"catboost\": CatBoostClassifier(**model_param['catBoost']),\n",
        "}\n",
        "tuned_report =evaluate_models(X=features_final, y=outcome_r, models=best_models)"
      ]
    },
    {
      "cell_type": "code",
      "execution_count": 57,
      "id": "3ebcc3e2",
      "metadata": {
        "id": "3ebcc3e2",
        "outputId": "870a295b-85c5-4204-cb8f-178bc6ccd9a6"
      },
      "outputs": [
        {
          "data": {
            "text/html": [
              "<div>\n",
              "<style scoped>\n",
              "    .dataframe tbody tr th:only-of-type {\n",
              "        vertical-align: middle;\n",
              "    }\n",
              "\n",
              "    .dataframe tbody tr th {\n",
              "        vertical-align: top;\n",
              "    }\n",
              "\n",
              "    .dataframe thead th {\n",
              "        text-align: right;\n",
              "    }\n",
              "</style>\n",
              "<table border=\"1\" class=\"dataframe\">\n",
              "  <thead>\n",
              "    <tr style=\"text-align: right;\">\n",
              "      <th></th>\n",
              "      <th>Model Name</th>\n",
              "      <th>Accuracy</th>\n",
              "    </tr>\n",
              "  </thead>\n",
              "  <tbody>\n",
              "    <tr>\n",
              "      <th>1</th>\n",
              "      <td>SVC</td>\n",
              "      <td>0.798701</td>\n",
              "    </tr>\n",
              "    <tr>\n",
              "      <th>2</th>\n",
              "      <td>catboost</td>\n",
              "      <td>0.733766</td>\n",
              "    </tr>\n",
              "    <tr>\n",
              "      <th>0</th>\n",
              "      <td>decision tree</td>\n",
              "      <td>0.707792</td>\n",
              "    </tr>\n",
              "  </tbody>\n",
              "</table>\n",
              "</div>"
            ],
            "text/plain": [
              "      Model Name  Accuracy\n",
              "1            SVC  0.798701\n",
              "2       catboost  0.733766\n",
              "0  decision tree  0.707792"
            ]
          },
          "execution_count": 57,
          "metadata": {},
          "output_type": "execute_result"
        }
      ],
      "source": [
        "tuned_report"
      ]
    },
    {
      "cell_type": "code",
      "execution_count": 58,
      "id": "a4beb9bb",
      "metadata": {
        "id": "a4beb9bb",
        "outputId": "fde92afe-af72-428a-e4d9-d44a094b28ad"
      },
      "outputs": [
        {
          "name": "stdout",
          "output_type": "stream",
          "text": [
            "FINAL MODEL 'SVC'\n",
            "Accuracy Score value: 0.7987\n",
            "              precision    recall  f1-score   support\n",
            "\n",
            "           0       0.80      0.92      0.85        99\n",
            "           1       0.80      0.58      0.67        55\n",
            "\n",
            "    accuracy                           0.80       154\n",
            "   macro avg       0.80      0.75      0.76       154\n",
            "weighted avg       0.80      0.80      0.79       154\n",
            "\n"
          ]
        }
      ],
      "source": [
        "best_model = SVC(**model_param['SVC'])\n",
        "best_model = best_model.fit(X_train,y_train)\n",
        "y_pred = best_model.predict(X_test)\n",
        "score = accuracy_score(y_test,y_pred)\n",
        "cr = classification_report(y_test,y_pred)\n",
        "\n",
        "print(\"FINAL MODEL 'SVC'\")\n",
        "print (\"Accuracy Score value: {:.4f}\".format(score))\n",
        "print (cr)"
      ]
    },
    {
      "cell_type": "code",
      "execution_count": 59,
      "id": "8bd89efe",
      "metadata": {
        "id": "8bd89efe",
        "outputId": "3078255a-0670-492a-8d4a-ab6aa891ef2f"
      },
      "outputs": [
        {
          "data": {
            "text/plain": [
              "<sklearn.metrics._plot.confusion_matrix.ConfusionMatrixDisplay at 0x2247d3cf110>"
            ]
          },
          "execution_count": 59,
          "metadata": {},
          "output_type": "execute_result"
        },
        {
          "data": {
            "image/png": "[encoded data removed]",
            "text/plain": [
              "<Figure size 640x480 with 2 Axes>"
            ]
          },
          "metadata": {},
          "output_type": "display_data"
        }
      ],
      "source": [
        "from sklearn.metrics import ConfusionMatrixDisplay\n",
        "ConfusionMatrixDisplay.from_estimator(best_model, X_test, y_test)"
      ]
    }
  ],
  "metadata": {
    "colab": {
      "provenance": []
    },
    "kernelspec": {
      "display_name": "Python 3",
      "language": "python",
      "name": "python3"
    },
    "language_info": {
      "codemirror_mode": {
        "name": "ipython",
        "version": 3
      },
      "file_extension": ".py",
      "mimetype": "text/x-python",
      "name": "python",
      "nbconvert_exporter": "python",
      "pygments_lexer": "ipython3",
      "version": "3.12.3"
    },
    "vscode": {
      "interpreter": {
        "hash": "e6422fc631fadc7a14dbe43d10d544a88c5583408f68c588bbe9704b9c540dab"
      }
    }
  },
  "nbformat": 4,
  "nbformat_minor": 5
}
